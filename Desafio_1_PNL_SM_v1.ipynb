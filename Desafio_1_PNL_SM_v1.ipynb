{
  "cells": [
    {
      "cell_type": "markdown",
      "metadata": {
        "id": "zq6j8LsYq1Dr"
      },
      "source": [
        "### Vectorización de texto y modelo de clasificación Naïve Bayes con el dataset 20 newsgroups"
      ]
    },
    {
      "cell_type": "code",
      "execution_count": 2,
      "metadata": {
        "id": "l7cXR6CI30ry"
      },
      "outputs": [],
      "source": [
        "from sklearn.feature_extraction.text import CountVectorizer, TfidfVectorizer\n",
        "from sklearn.metrics.pairwise import cosine_similarity\n",
        "from sklearn.naive_bayes import MultinomialNB, ComplementNB\n",
        "from sklearn.metrics import f1_score\n",
        "\n",
        "# 20newsgroups por ser un dataset clásico de NLP ya viene incluido y formateado\n",
        "# en sklearn\n",
        "from sklearn.datasets import fetch_20newsgroups\n",
        "import numpy as np"
      ]
    },
    {
      "cell_type": "markdown",
      "metadata": {
        "id": "yD-pVDWV_rQc"
      },
      "source": [
        "## Carga de datos"
      ]
    },
    {
      "cell_type": "code",
      "execution_count": 3,
      "metadata": {
        "id": "Ech9qJaUo9vK"
      },
      "outputs": [],
      "source": [
        "# cargamos los datos (ya separados de forma predeterminada en train y test)\n",
        "newsgroups_train = fetch_20newsgroups(subset='train', remove=('headers', 'footers', 'quotes'))\n",
        "newsgroups_test = fetch_20newsgroups(subset='test', remove=('headers', 'footers', 'quotes'))"
      ]
    },
    {
      "cell_type": "markdown",
      "metadata": {
        "id": "UxjSI7su_uWI"
      },
      "source": [
        "## Vectorización"
      ]
    },
    {
      "cell_type": "code",
      "execution_count": 4,
      "metadata": {
        "id": "-94VP0QYCzDn"
      },
      "outputs": [],
      "source": [
        "# instanciamos un vectorizador\n",
        "# ver diferentes parámetros de instanciación en la documentación de sklearn\n",
        "tfidfvect = TfidfVectorizer()"
      ]
    },
    {
      "cell_type": "code",
      "execution_count": 5,
      "metadata": {
        "colab": {
          "base_uri": "https://localhost:8080/",
          "height": 71
        },
        "id": "ftPlyanuak8n",
        "outputId": "71d22c93-5e70-43d1-f4a8-62d2309b3782"
      },
      "outputs": [
        {
          "output_type": "execute_result",
          "data": {
            "text/plain": [
              "'I was wondering if anyone out there could enlighten me on this car I saw\\nthe other day. It was a 2-door sports car, looked to be from the late 60s/\\nearly 70s. It was called a Bricklin. The doors were really small. In addition,\\nthe front bumper was separate from the rest of the body. This is \\nall I know. If anyone can tellme a model name, engine specs, years\\nof production, where this car is made, history, or whatever info you\\nhave on this funky looking car, please e-mail.'"
            ],
            "application/vnd.google.colaboratory.intrinsic+json": {
              "type": "string"
            }
          },
          "metadata": {},
          "execution_count": 5
        }
      ],
      "source": [
        "# en el atributo `data` accedemos al texto\n",
        "newsgroups_train.data[0]"
      ]
    },
    {
      "cell_type": "code",
      "execution_count": 6,
      "metadata": {
        "id": "1zxcXV6aC_oL"
      },
      "outputs": [],
      "source": [
        "# con la interfaz habitual de sklearn podemos fitear el vectorizador\n",
        "# (obtener el vocabulario y calcular el vector IDF)\n",
        "# y transformar directamente los datos\n",
        "X_train = tfidfvect.fit_transform(newsgroups_train.data)\n",
        "# `X_train` la podemos denominar como la matriz documento-término"
      ]
    },
    {
      "cell_type": "code",
      "execution_count": 7,
      "metadata": {
        "colab": {
          "base_uri": "https://localhost:8080/"
        },
        "id": "4Sv7TXbda41-",
        "outputId": "158e305f-8779-472c-a6a6-e44c9ea9d955"
      },
      "outputs": [
        {
          "output_type": "stream",
          "name": "stdout",
          "text": [
            "<class 'scipy.sparse._csr.csr_matrix'>\n",
            "shape: (11314, 101631)\n",
            "cantidad de documentos: 11314\n",
            "tamaño del vocabulario (dimensionalidad de los vectores): 101631\n"
          ]
        }
      ],
      "source": [
        "# recordar que las vectorizaciones por conteos son esparsas\n",
        "# por ello sklearn convenientemente devuelve los vectores de documentos\n",
        "# como matrices esparsas\n",
        "print(type(X_train))\n",
        "print(f'shape: {X_train.shape}')\n",
        "print(f'cantidad de documentos: {X_train.shape[0]}')\n",
        "print(f'tamaño del vocabulario (dimensionalidad de los vectores): {X_train.shape[1]}')"
      ]
    },
    {
      "cell_type": "code",
      "execution_count": 8,
      "metadata": {
        "colab": {
          "base_uri": "https://localhost:8080/"
        },
        "id": "dgydNTZ2pAgR",
        "outputId": "9e63cf66-ea75-47ab-d3b7-bb5f5349761c"
      },
      "outputs": [
        {
          "output_type": "execute_result",
          "data": {
            "text/plain": [
              "25775"
            ]
          },
          "metadata": {},
          "execution_count": 8
        }
      ],
      "source": [
        "# una vez fiteado el vectorizador, podemos acceder a atributos como el vocabulario\n",
        "# aprendido. Es un diccionario que va de términos a índices.\n",
        "# El índice es la posición en el vector de documento.\n",
        "tfidfvect.vocabulary_['car']"
      ]
    },
    {
      "cell_type": "code",
      "execution_count": 9,
      "metadata": {
        "id": "xnTSZuvyrTcP"
      },
      "outputs": [],
      "source": [
        "# es muy útil tener el diccionario opuesto que va de índices a términos\n",
        "idx2word = {v: k for k,v in tfidfvect.vocabulary_.items()}"
      ]
    },
    {
      "cell_type": "code",
      "execution_count": 10,
      "metadata": {
        "colab": {
          "base_uri": "https://localhost:8080/"
        },
        "id": "swa-AgWrMSHM",
        "outputId": "0c6e90b7-f43d-4f96-d638-fb4554cc9718"
      },
      "outputs": [
        {
          "output_type": "execute_result",
          "data": {
            "text/plain": [
              "array([ 7,  4,  4,  1, 14, 16, 13,  3,  2,  4])"
            ]
          },
          "metadata": {},
          "execution_count": 10
        }
      ],
      "source": [
        "# en `y_train` guardamos los targets que son enteros\n",
        "y_train = newsgroups_train.target\n",
        "y_train[:10]"
      ]
    },
    {
      "cell_type": "code",
      "execution_count": 11,
      "metadata": {
        "colab": {
          "base_uri": "https://localhost:8080/"
        },
        "id": "je5kxvQMDLvf",
        "outputId": "55f46d54-2f01-4c4b-da28-af02bf26b6c9"
      },
      "outputs": [
        {
          "output_type": "stream",
          "name": "stdout",
          "text": [
            "clases [ 0  1  2  3  4  5  6  7  8  9 10 11 12 13 14 15 16 17 18 19]\n"
          ]
        },
        {
          "output_type": "execute_result",
          "data": {
            "text/plain": [
              "['alt.atheism',\n",
              " 'comp.graphics',\n",
              " 'comp.os.ms-windows.misc',\n",
              " 'comp.sys.ibm.pc.hardware',\n",
              " 'comp.sys.mac.hardware',\n",
              " 'comp.windows.x',\n",
              " 'misc.forsale',\n",
              " 'rec.autos',\n",
              " 'rec.motorcycles',\n",
              " 'rec.sport.baseball',\n",
              " 'rec.sport.hockey',\n",
              " 'sci.crypt',\n",
              " 'sci.electronics',\n",
              " 'sci.med',\n",
              " 'sci.space',\n",
              " 'soc.religion.christian',\n",
              " 'talk.politics.guns',\n",
              " 'talk.politics.mideast',\n",
              " 'talk.politics.misc',\n",
              " 'talk.religion.misc']"
            ]
          },
          "metadata": {},
          "execution_count": 11
        }
      ],
      "source": [
        "# hay 20 clases correspondientes a los 20 grupos de noticias\n",
        "print(f'clases {np.unique(newsgroups_test.target)}')\n",
        "newsgroups_test.target_names"
      ]
    },
    {
      "cell_type": "markdown",
      "metadata": {
        "id": "SXCICFSd_y90"
      },
      "source": [
        "## Similaridad de documentos"
      ]
    },
    {
      "cell_type": "code",
      "execution_count": 12,
      "metadata": {
        "colab": {
          "base_uri": "https://localhost:8080/"
        },
        "id": "_pki_olShnyE",
        "outputId": "8c032bbc-dccb-40ed-8a77-89d497dd888b"
      },
      "outputs": [
        {
          "output_type": "stream",
          "name": "stdout",
          "text": [
            "THE WHITE HOUSE\n",
            "\n",
            "                  Office of the Press Secretary\n",
            "                   (Pittsburgh, Pennslyvania)\n",
            "______________________________________________________________\n",
            "For Immediate Release                         April 17, 1993     \n",
            "\n",
            "             \n",
            "                  RADIO ADDRESS TO THE NATION \n",
            "                        BY THE PRESIDENT\n",
            "             \n",
            "                Pittsburgh International Airport\n",
            "                    Pittsburgh, Pennsylvania\n",
            "             \n",
            "             \n",
            "10:06 A.M. EDT\n",
            "             \n",
            "             \n",
            "             THE PRESIDENT:  Good morning.  My voice is coming to\n",
            "you this morning through the facilities of the oldest radio\n",
            "station in America, KDKA in Pittsburgh.  I'm visiting the city to\n",
            "meet personally with citizens here to discuss my plans for jobs,\n",
            "health care and the economy.  But I wanted first to do my weekly\n",
            "broadcast with the American people. \n",
            "             \n",
            "             I'm told this station first broadcast in 1920 when\n",
            "it reported that year's presidential elections.  Over the past\n",
            "seven decades presidents have found ways to keep in touch with\n",
            "the people, from whistle-stop tours to fire-side chats to the bus\n",
            "tour that I adopted, along with Vice President Gore, in last\n",
            "year's campaign.\n",
            "             \n",
            "             Every Saturday morning I take this time to talk with\n",
            "you, my fellow Americans, about the problems on your minds and\n",
            "what I'm doing to try and solve them.  It's my way of reporting\n",
            "to you and of giving you a way to hold me accountable.\n",
            "             \n",
            "             You sent me to Washington to get our government and\n",
            "economy moving after years of paralysis and policy and a bad\n",
            "experiment with trickle-down economics.  You know how important\n",
            "it is for us to make bold, comprehensive changes in the way we do\n",
            "business.  \n",
            "             \n",
            "             We live in a competitive global economy.  Nations\n",
            "rise and fall on the skills of their workers, the competitiveness\n",
            "of their companies, the imagination of their industries, and the\n",
            "cooperative experience and spirit that exists between business,\n",
            "labor and government.  Although many of the economies of the\n",
            "industrialized world are now suffering from slow growth, they've\n",
            "made many of the smart investments and the tough choices which\n",
            "our government has for too long ignored.  That's why many of them\n",
            "have been moving ahead and too many of our people have been\n",
            "falling behind.\n",
            "             \n",
            "             We have an economy today that even when it grows is\n",
            "not producing new jobs.  We've increased the debt of our nation\n",
            "by four times over the last 12 years, and we don't have much to\n",
            "show for it.  We know that wages of most working people have\n",
            "stopped rising, that most people are working longer work weeks\n",
            "and that too many families can no longer afford the escalating\n",
            "cost of health care.\n",
            "             \n",
            "             But we also know that, given the right tools, the\n",
            "right incentives and the right encouragement, our workers and\n",
            "businesses can make the kinds of products and profits our economy\n",
            "needs to expand opportunity and to make our communities better\n",
            "places to live.\n",
            "             \n",
            "             In many critical products today Americans are the\n",
            "low cost, high quality producers.  Our task is to make sure that\n",
            "we create more of those kinds of jobs.\n",
            "             \n",
            "             Just two months ago I gave Congress my plan for\n",
            "long-term jobs and economic growth.  It changes the old\n",
            "priorities in Washington and puts our emphasis where it needs to\n",
            "be -- on people's real needs, on increasing investments and jobs\n",
            "and education, on cutting the federal deficit, on stopping the\n",
            "waste which pays no dividends, and redirecting our precious\n",
            "resources toward investment that creates jobs now and lays the\n",
            "groundwork for robust economic growth in the future.\n",
            "             \n",
            "             These new directions passed the Congress in record\n",
            "time and created a new sense of hope and opportunity in our\n",
            "country.  Then the jobs plan I presented to Congress, which would\n",
            "create hundreds of thousands of jobs, most of them in the private\n",
            "sector in 1993 and 1994, passed the House of Representatives.  It\n",
            "now has the support of a majority of the United States Senate. \n",
            "But it's been held up by a filibuster of a minority in the\n",
            "Senate, just 43 senators.  They blocked a vote that they know\n",
            "would result in the passage of our bill and the creation of jobs.\n",
            "             \n",
            "             The issue isn't politics; the issue is people. \n",
            "Millions of Americans are waiting for this legislation and\n",
            "counting on it, counting on us in Washington.  But the jobs bill\n",
            "has been grounded by gridlock.  \n",
            "             \n",
            "             I know the American people are tired of business as\n",
            "usual and politics as usual.  I know they don't want us to spin\n",
            "or wheels.  They want the recovery to get moving.  So I have\n",
            "taken a first step to break this gridlock and gone the extra\n",
            "mile.  Yesterday I offered to cut the size of this plan by 25\n",
            "percent -- from $16 billion to $12 billion.  \n",
            "             \n",
            "             It's not what I'd hoped for.  With 16 million\n",
            "Americans looking for full-time work, I simply can't let the bill\n",
            "languish when I know that even a compromise bill will mean\n",
            "hundreds of thousands of jobs for our people.  The mandate is to\n",
            "act to achieve change and move the country forward.  By taking\n",
            "this initiative in the face of an unrelenting Senate talkathon, I\n",
            "think we can respond to your mandate and achieve a significant\n",
            "portion of our original goals.\n",
            "             \n",
            "             First, we want to keep the programs as much as\n",
            "possible that are needed to generate jobs and meet human needs,\n",
            "including highway and road construction, summer jobs for young\n",
            "people, immunization for children, construction of waste water\n",
            "sites, and aid to small businesses.  We also want to keep funding\n",
            "for extended unemployment compensation benefits, for people who\n",
            "have been unemployed for a long time because the economy isn't\n",
            "creating jobs.\n",
            "             \n",
            "             Second, I've recommended that all the other programs\n",
            "in the bill be cut across-the-board by a little more than 40\n",
            "percent.\n",
            "             \n",
            "             And third, I've recommended a new element in this\n",
            "program to help us immediately start our attempt to fight against\n",
            "crime by providing $200 million for cities and towns to rehire\n",
            "police officers who lost their jobs during the recession and put\n",
            "them back to work protecting our people.  I'm also going to fight\n",
            "for a tough crime bill because the people of this country need it\n",
            "and deserve it.\n",
            "             \n",
            "             Now, the people who are filibustering this bill --\n",
            "the Republican senators -- say they won't vote for it because it\n",
            "increases deficit spending, because there's extra spending this\n",
            "year that hasn't already been approved.  That sounds reasonable,\n",
            "doesn't it?  Here's what they don't say.  This program is more\n",
            "than paid for by budget cuts over my five-year budget, and this\n",
            "budget is well within the spending limits already approved by the\n",
            "Congress this year.\n",
            "             \n",
            "             It's amazing to me that many of these same senators\n",
            "who are filibustering the bill voted during the previous\n",
            "administration for billions of dollars of the same kind of\n",
            "emergency spending, and much of it was not designed to put the\n",
            "American people to work.  \n",
            "             \n",
            "             This is not about deficit spending.  We have offered\n",
            "a plan to cut the deficit.  This is about where your priorities\n",
            "are -- on people or on politics.  \n",
            "             \n",
            "             Keep in mind that our jobs bill is paid for dollar\n",
            "for dollar.  It is paid for by budget cuts.  And it's the\n",
            "soundest investment we can now make for ourselves and our\n",
            "children.  I urge all Americans to take another look at this jobs\n",
            "and investment program; to consider again the benefits for all of\n",
            "us when we've helped make more American partners working to\n",
            "ensure the future of our nation and the strength of our economy.\n",
            "             \n",
            "             You know, if every American who wanted a job had\n",
            "one, we wouldn't have a lot of the other problems we have in this\n",
            "country today.  This bill is not a miracle, it's a modest first\n",
            "step to try to set off a job creation explosion in this country\n",
            "again.  But it's a step we ought to take.  And it is fully paid\n",
            "for over the life of our budget.\n",
            "             \n",
            "             Tell your lawmakers what you think.  Tell them how\n",
            "important the bill is.  If it passes, we'll all be winners.\n",
            "             \n",
            "             Good morning, and thank you for listening.\n"
          ]
        }
      ],
      "source": [
        "# Veamos similaridad de documentos. Tomemos algún documento\n",
        "idx = 4811\n",
        "print(newsgroups_train.data[idx])"
      ]
    },
    {
      "cell_type": "code",
      "execution_count": 13,
      "metadata": {
        "id": "Ssa9bqJ-hA_v"
      },
      "outputs": [],
      "source": [
        "# midamos la similaridad coseno con todos los documentos de train\n",
        "cossim = cosine_similarity(X_train[idx], X_train)[0]"
      ]
    },
    {
      "cell_type": "code",
      "execution_count": 14,
      "metadata": {
        "colab": {
          "base_uri": "https://localhost:8080/"
        },
        "id": "p_mDA7p3AzcQ",
        "outputId": "c1bd0f29-e562-4b81-c327-32c6b7dc259a"
      },
      "outputs": [
        {
          "output_type": "execute_result",
          "data": {
            "text/plain": [
              "array([1.        , 0.70930477, 0.67474953, ..., 0.        , 0.        ,\n",
              "       0.        ])"
            ]
          },
          "metadata": {},
          "execution_count": 14
        }
      ],
      "source": [
        "# podemos ver los valores de similaridad ordenados de mayor a menos\n",
        "np.sort(cossim)[::-1]"
      ]
    },
    {
      "cell_type": "code",
      "execution_count": 15,
      "metadata": {
        "colab": {
          "base_uri": "https://localhost:8080/"
        },
        "id": "0OIhDA1jAryX",
        "outputId": "4c31584f-9bc7-4006-9058-26872acc7a66"
      },
      "outputs": [
        {
          "output_type": "execute_result",
          "data": {
            "text/plain": [
              "array([ 4811,  6635,  4253, ...,  1534, 10055,  4750])"
            ]
          },
          "metadata": {},
          "execution_count": 15
        }
      ],
      "source": [
        "# y a qué documentos corresponden\n",
        "np.argsort(cossim)[::-1]"
      ]
    },
    {
      "cell_type": "code",
      "execution_count": 16,
      "metadata": {
        "id": "hP7qLS4ZBLps"
      },
      "outputs": [],
      "source": [
        "# los 5 documentos más similares:\n",
        "mostsim = np.argsort(cossim)[::-1][1:6]"
      ]
    },
    {
      "cell_type": "code",
      "execution_count": 17,
      "metadata": {
        "colab": {
          "base_uri": "https://localhost:8080/",
          "height": 35
        },
        "id": "QdJLHPJACvaj",
        "outputId": "fdfcdf1b-797f-4ba8-de39-f801de97c337"
      },
      "outputs": [
        {
          "output_type": "execute_result",
          "data": {
            "text/plain": [
              "'talk.politics.misc'"
            ],
            "application/vnd.google.colaboratory.intrinsic+json": {
              "type": "string"
            }
          },
          "metadata": {},
          "execution_count": 17
        }
      ],
      "source": [
        "# el documento original pertenece a la clase:\n",
        "newsgroups_train.target_names[y_train[idx]]"
      ]
    },
    {
      "cell_type": "code",
      "execution_count": 18,
      "metadata": {
        "colab": {
          "base_uri": "https://localhost:8080/"
        },
        "id": "RWy_73epCbFG",
        "outputId": "3908d261-2ff8-4687-edfe-6087d2428898"
      },
      "outputs": [
        {
          "output_type": "stream",
          "name": "stdout",
          "text": [
            "talk.politics.misc\n",
            "talk.politics.misc\n",
            "talk.politics.misc\n",
            "talk.politics.misc\n",
            "talk.politics.misc\n"
          ]
        }
      ],
      "source": [
        "# y los 5 más similares son de las clases:\n",
        "for i in mostsim:\n",
        "  print(newsgroups_train.target_names[y_train[i]])"
      ]
    },
    {
      "cell_type": "markdown",
      "metadata": {
        "id": "zRoNnKwhBqzq"
      },
      "source": [
        "### Modelo de clasificación Naïve Bayes"
      ]
    },
    {
      "cell_type": "code",
      "execution_count": 19,
      "metadata": {
        "colab": {
          "base_uri": "https://localhost:8080/",
          "height": 80
        },
        "id": "TPM0thDaLk0R",
        "outputId": "9821edce-9695-418c-95a8-403e6f3145b1"
      },
      "outputs": [
        {
          "output_type": "execute_result",
          "data": {
            "text/plain": [
              "MultinomialNB()"
            ],
            "text/html": [
              "<style>#sk-container-id-1 {\n",
              "  /* Definition of color scheme common for light and dark mode */\n",
              "  --sklearn-color-text: black;\n",
              "  --sklearn-color-line: gray;\n",
              "  /* Definition of color scheme for unfitted estimators */\n",
              "  --sklearn-color-unfitted-level-0: #fff5e6;\n",
              "  --sklearn-color-unfitted-level-1: #f6e4d2;\n",
              "  --sklearn-color-unfitted-level-2: #ffe0b3;\n",
              "  --sklearn-color-unfitted-level-3: chocolate;\n",
              "  /* Definition of color scheme for fitted estimators */\n",
              "  --sklearn-color-fitted-level-0: #f0f8ff;\n",
              "  --sklearn-color-fitted-level-1: #d4ebff;\n",
              "  --sklearn-color-fitted-level-2: #b3dbfd;\n",
              "  --sklearn-color-fitted-level-3: cornflowerblue;\n",
              "\n",
              "  /* Specific color for light theme */\n",
              "  --sklearn-color-text-on-default-background: var(--sg-text-color, var(--theme-code-foreground, var(--jp-content-font-color1, black)));\n",
              "  --sklearn-color-background: var(--sg-background-color, var(--theme-background, var(--jp-layout-color0, white)));\n",
              "  --sklearn-color-border-box: var(--sg-text-color, var(--theme-code-foreground, var(--jp-content-font-color1, black)));\n",
              "  --sklearn-color-icon: #696969;\n",
              "\n",
              "  @media (prefers-color-scheme: dark) {\n",
              "    /* Redefinition of color scheme for dark theme */\n",
              "    --sklearn-color-text-on-default-background: var(--sg-text-color, var(--theme-code-foreground, var(--jp-content-font-color1, white)));\n",
              "    --sklearn-color-background: var(--sg-background-color, var(--theme-background, var(--jp-layout-color0, #111)));\n",
              "    --sklearn-color-border-box: var(--sg-text-color, var(--theme-code-foreground, var(--jp-content-font-color1, white)));\n",
              "    --sklearn-color-icon: #878787;\n",
              "  }\n",
              "}\n",
              "\n",
              "#sk-container-id-1 {\n",
              "  color: var(--sklearn-color-text);\n",
              "}\n",
              "\n",
              "#sk-container-id-1 pre {\n",
              "  padding: 0;\n",
              "}\n",
              "\n",
              "#sk-container-id-1 input.sk-hidden--visually {\n",
              "  border: 0;\n",
              "  clip: rect(1px 1px 1px 1px);\n",
              "  clip: rect(1px, 1px, 1px, 1px);\n",
              "  height: 1px;\n",
              "  margin: -1px;\n",
              "  overflow: hidden;\n",
              "  padding: 0;\n",
              "  position: absolute;\n",
              "  width: 1px;\n",
              "}\n",
              "\n",
              "#sk-container-id-1 div.sk-dashed-wrapped {\n",
              "  border: 1px dashed var(--sklearn-color-line);\n",
              "  margin: 0 0.4em 0.5em 0.4em;\n",
              "  box-sizing: border-box;\n",
              "  padding-bottom: 0.4em;\n",
              "  background-color: var(--sklearn-color-background);\n",
              "}\n",
              "\n",
              "#sk-container-id-1 div.sk-container {\n",
              "  /* jupyter's `normalize.less` sets `[hidden] { display: none; }`\n",
              "     but bootstrap.min.css set `[hidden] { display: none !important; }`\n",
              "     so we also need the `!important` here to be able to override the\n",
              "     default hidden behavior on the sphinx rendered scikit-learn.org.\n",
              "     See: https://github.com/scikit-learn/scikit-learn/issues/21755 */\n",
              "  display: inline-block !important;\n",
              "  position: relative;\n",
              "}\n",
              "\n",
              "#sk-container-id-1 div.sk-text-repr-fallback {\n",
              "  display: none;\n",
              "}\n",
              "\n",
              "div.sk-parallel-item,\n",
              "div.sk-serial,\n",
              "div.sk-item {\n",
              "  /* draw centered vertical line to link estimators */\n",
              "  background-image: linear-gradient(var(--sklearn-color-text-on-default-background), var(--sklearn-color-text-on-default-background));\n",
              "  background-size: 2px 100%;\n",
              "  background-repeat: no-repeat;\n",
              "  background-position: center center;\n",
              "}\n",
              "\n",
              "/* Parallel-specific style estimator block */\n",
              "\n",
              "#sk-container-id-1 div.sk-parallel-item::after {\n",
              "  content: \"\";\n",
              "  width: 100%;\n",
              "  border-bottom: 2px solid var(--sklearn-color-text-on-default-background);\n",
              "  flex-grow: 1;\n",
              "}\n",
              "\n",
              "#sk-container-id-1 div.sk-parallel {\n",
              "  display: flex;\n",
              "  align-items: stretch;\n",
              "  justify-content: center;\n",
              "  background-color: var(--sklearn-color-background);\n",
              "  position: relative;\n",
              "}\n",
              "\n",
              "#sk-container-id-1 div.sk-parallel-item {\n",
              "  display: flex;\n",
              "  flex-direction: column;\n",
              "}\n",
              "\n",
              "#sk-container-id-1 div.sk-parallel-item:first-child::after {\n",
              "  align-self: flex-end;\n",
              "  width: 50%;\n",
              "}\n",
              "\n",
              "#sk-container-id-1 div.sk-parallel-item:last-child::after {\n",
              "  align-self: flex-start;\n",
              "  width: 50%;\n",
              "}\n",
              "\n",
              "#sk-container-id-1 div.sk-parallel-item:only-child::after {\n",
              "  width: 0;\n",
              "}\n",
              "\n",
              "/* Serial-specific style estimator block */\n",
              "\n",
              "#sk-container-id-1 div.sk-serial {\n",
              "  display: flex;\n",
              "  flex-direction: column;\n",
              "  align-items: center;\n",
              "  background-color: var(--sklearn-color-background);\n",
              "  padding-right: 1em;\n",
              "  padding-left: 1em;\n",
              "}\n",
              "\n",
              "\n",
              "/* Toggleable style: style used for estimator/Pipeline/ColumnTransformer box that is\n",
              "clickable and can be expanded/collapsed.\n",
              "- Pipeline and ColumnTransformer use this feature and define the default style\n",
              "- Estimators will overwrite some part of the style using the `sk-estimator` class\n",
              "*/\n",
              "\n",
              "/* Pipeline and ColumnTransformer style (default) */\n",
              "\n",
              "#sk-container-id-1 div.sk-toggleable {\n",
              "  /* Default theme specific background. It is overwritten whether we have a\n",
              "  specific estimator or a Pipeline/ColumnTransformer */\n",
              "  background-color: var(--sklearn-color-background);\n",
              "}\n",
              "\n",
              "/* Toggleable label */\n",
              "#sk-container-id-1 label.sk-toggleable__label {\n",
              "  cursor: pointer;\n",
              "  display: block;\n",
              "  width: 100%;\n",
              "  margin-bottom: 0;\n",
              "  padding: 0.5em;\n",
              "  box-sizing: border-box;\n",
              "  text-align: center;\n",
              "}\n",
              "\n",
              "#sk-container-id-1 label.sk-toggleable__label-arrow:before {\n",
              "  /* Arrow on the left of the label */\n",
              "  content: \"▸\";\n",
              "  float: left;\n",
              "  margin-right: 0.25em;\n",
              "  color: var(--sklearn-color-icon);\n",
              "}\n",
              "\n",
              "#sk-container-id-1 label.sk-toggleable__label-arrow:hover:before {\n",
              "  color: var(--sklearn-color-text);\n",
              "}\n",
              "\n",
              "/* Toggleable content - dropdown */\n",
              "\n",
              "#sk-container-id-1 div.sk-toggleable__content {\n",
              "  max-height: 0;\n",
              "  max-width: 0;\n",
              "  overflow: hidden;\n",
              "  text-align: left;\n",
              "  /* unfitted */\n",
              "  background-color: var(--sklearn-color-unfitted-level-0);\n",
              "}\n",
              "\n",
              "#sk-container-id-1 div.sk-toggleable__content.fitted {\n",
              "  /* fitted */\n",
              "  background-color: var(--sklearn-color-fitted-level-0);\n",
              "}\n",
              "\n",
              "#sk-container-id-1 div.sk-toggleable__content pre {\n",
              "  margin: 0.2em;\n",
              "  border-radius: 0.25em;\n",
              "  color: var(--sklearn-color-text);\n",
              "  /* unfitted */\n",
              "  background-color: var(--sklearn-color-unfitted-level-0);\n",
              "}\n",
              "\n",
              "#sk-container-id-1 div.sk-toggleable__content.fitted pre {\n",
              "  /* unfitted */\n",
              "  background-color: var(--sklearn-color-fitted-level-0);\n",
              "}\n",
              "\n",
              "#sk-container-id-1 input.sk-toggleable__control:checked~div.sk-toggleable__content {\n",
              "  /* Expand drop-down */\n",
              "  max-height: 200px;\n",
              "  max-width: 100%;\n",
              "  overflow: auto;\n",
              "}\n",
              "\n",
              "#sk-container-id-1 input.sk-toggleable__control:checked~label.sk-toggleable__label-arrow:before {\n",
              "  content: \"▾\";\n",
              "}\n",
              "\n",
              "/* Pipeline/ColumnTransformer-specific style */\n",
              "\n",
              "#sk-container-id-1 div.sk-label input.sk-toggleable__control:checked~label.sk-toggleable__label {\n",
              "  color: var(--sklearn-color-text);\n",
              "  background-color: var(--sklearn-color-unfitted-level-2);\n",
              "}\n",
              "\n",
              "#sk-container-id-1 div.sk-label.fitted input.sk-toggleable__control:checked~label.sk-toggleable__label {\n",
              "  background-color: var(--sklearn-color-fitted-level-2);\n",
              "}\n",
              "\n",
              "/* Estimator-specific style */\n",
              "\n",
              "/* Colorize estimator box */\n",
              "#sk-container-id-1 div.sk-estimator input.sk-toggleable__control:checked~label.sk-toggleable__label {\n",
              "  /* unfitted */\n",
              "  background-color: var(--sklearn-color-unfitted-level-2);\n",
              "}\n",
              "\n",
              "#sk-container-id-1 div.sk-estimator.fitted input.sk-toggleable__control:checked~label.sk-toggleable__label {\n",
              "  /* fitted */\n",
              "  background-color: var(--sklearn-color-fitted-level-2);\n",
              "}\n",
              "\n",
              "#sk-container-id-1 div.sk-label label.sk-toggleable__label,\n",
              "#sk-container-id-1 div.sk-label label {\n",
              "  /* The background is the default theme color */\n",
              "  color: var(--sklearn-color-text-on-default-background);\n",
              "}\n",
              "\n",
              "/* On hover, darken the color of the background */\n",
              "#sk-container-id-1 div.sk-label:hover label.sk-toggleable__label {\n",
              "  color: var(--sklearn-color-text);\n",
              "  background-color: var(--sklearn-color-unfitted-level-2);\n",
              "}\n",
              "\n",
              "/* Label box, darken color on hover, fitted */\n",
              "#sk-container-id-1 div.sk-label.fitted:hover label.sk-toggleable__label.fitted {\n",
              "  color: var(--sklearn-color-text);\n",
              "  background-color: var(--sklearn-color-fitted-level-2);\n",
              "}\n",
              "\n",
              "/* Estimator label */\n",
              "\n",
              "#sk-container-id-1 div.sk-label label {\n",
              "  font-family: monospace;\n",
              "  font-weight: bold;\n",
              "  display: inline-block;\n",
              "  line-height: 1.2em;\n",
              "}\n",
              "\n",
              "#sk-container-id-1 div.sk-label-container {\n",
              "  text-align: center;\n",
              "}\n",
              "\n",
              "/* Estimator-specific */\n",
              "#sk-container-id-1 div.sk-estimator {\n",
              "  font-family: monospace;\n",
              "  border: 1px dotted var(--sklearn-color-border-box);\n",
              "  border-radius: 0.25em;\n",
              "  box-sizing: border-box;\n",
              "  margin-bottom: 0.5em;\n",
              "  /* unfitted */\n",
              "  background-color: var(--sklearn-color-unfitted-level-0);\n",
              "}\n",
              "\n",
              "#sk-container-id-1 div.sk-estimator.fitted {\n",
              "  /* fitted */\n",
              "  background-color: var(--sklearn-color-fitted-level-0);\n",
              "}\n",
              "\n",
              "/* on hover */\n",
              "#sk-container-id-1 div.sk-estimator:hover {\n",
              "  /* unfitted */\n",
              "  background-color: var(--sklearn-color-unfitted-level-2);\n",
              "}\n",
              "\n",
              "#sk-container-id-1 div.sk-estimator.fitted:hover {\n",
              "  /* fitted */\n",
              "  background-color: var(--sklearn-color-fitted-level-2);\n",
              "}\n",
              "\n",
              "/* Specification for estimator info (e.g. \"i\" and \"?\") */\n",
              "\n",
              "/* Common style for \"i\" and \"?\" */\n",
              "\n",
              ".sk-estimator-doc-link,\n",
              "a:link.sk-estimator-doc-link,\n",
              "a:visited.sk-estimator-doc-link {\n",
              "  float: right;\n",
              "  font-size: smaller;\n",
              "  line-height: 1em;\n",
              "  font-family: monospace;\n",
              "  background-color: var(--sklearn-color-background);\n",
              "  border-radius: 1em;\n",
              "  height: 1em;\n",
              "  width: 1em;\n",
              "  text-decoration: none !important;\n",
              "  margin-left: 1ex;\n",
              "  /* unfitted */\n",
              "  border: var(--sklearn-color-unfitted-level-1) 1pt solid;\n",
              "  color: var(--sklearn-color-unfitted-level-1);\n",
              "}\n",
              "\n",
              ".sk-estimator-doc-link.fitted,\n",
              "a:link.sk-estimator-doc-link.fitted,\n",
              "a:visited.sk-estimator-doc-link.fitted {\n",
              "  /* fitted */\n",
              "  border: var(--sklearn-color-fitted-level-1) 1pt solid;\n",
              "  color: var(--sklearn-color-fitted-level-1);\n",
              "}\n",
              "\n",
              "/* On hover */\n",
              "div.sk-estimator:hover .sk-estimator-doc-link:hover,\n",
              ".sk-estimator-doc-link:hover,\n",
              "div.sk-label-container:hover .sk-estimator-doc-link:hover,\n",
              ".sk-estimator-doc-link:hover {\n",
              "  /* unfitted */\n",
              "  background-color: var(--sklearn-color-unfitted-level-3);\n",
              "  color: var(--sklearn-color-background);\n",
              "  text-decoration: none;\n",
              "}\n",
              "\n",
              "div.sk-estimator.fitted:hover .sk-estimator-doc-link.fitted:hover,\n",
              ".sk-estimator-doc-link.fitted:hover,\n",
              "div.sk-label-container:hover .sk-estimator-doc-link.fitted:hover,\n",
              ".sk-estimator-doc-link.fitted:hover {\n",
              "  /* fitted */\n",
              "  background-color: var(--sklearn-color-fitted-level-3);\n",
              "  color: var(--sklearn-color-background);\n",
              "  text-decoration: none;\n",
              "}\n",
              "\n",
              "/* Span, style for the box shown on hovering the info icon */\n",
              ".sk-estimator-doc-link span {\n",
              "  display: none;\n",
              "  z-index: 9999;\n",
              "  position: relative;\n",
              "  font-weight: normal;\n",
              "  right: .2ex;\n",
              "  padding: .5ex;\n",
              "  margin: .5ex;\n",
              "  width: min-content;\n",
              "  min-width: 20ex;\n",
              "  max-width: 50ex;\n",
              "  color: var(--sklearn-color-text);\n",
              "  box-shadow: 2pt 2pt 4pt #999;\n",
              "  /* unfitted */\n",
              "  background: var(--sklearn-color-unfitted-level-0);\n",
              "  border: .5pt solid var(--sklearn-color-unfitted-level-3);\n",
              "}\n",
              "\n",
              ".sk-estimator-doc-link.fitted span {\n",
              "  /* fitted */\n",
              "  background: var(--sklearn-color-fitted-level-0);\n",
              "  border: var(--sklearn-color-fitted-level-3);\n",
              "}\n",
              "\n",
              ".sk-estimator-doc-link:hover span {\n",
              "  display: block;\n",
              "}\n",
              "\n",
              "/* \"?\"-specific style due to the `<a>` HTML tag */\n",
              "\n",
              "#sk-container-id-1 a.estimator_doc_link {\n",
              "  float: right;\n",
              "  font-size: 1rem;\n",
              "  line-height: 1em;\n",
              "  font-family: monospace;\n",
              "  background-color: var(--sklearn-color-background);\n",
              "  border-radius: 1rem;\n",
              "  height: 1rem;\n",
              "  width: 1rem;\n",
              "  text-decoration: none;\n",
              "  /* unfitted */\n",
              "  color: var(--sklearn-color-unfitted-level-1);\n",
              "  border: var(--sklearn-color-unfitted-level-1) 1pt solid;\n",
              "}\n",
              "\n",
              "#sk-container-id-1 a.estimator_doc_link.fitted {\n",
              "  /* fitted */\n",
              "  border: var(--sklearn-color-fitted-level-1) 1pt solid;\n",
              "  color: var(--sklearn-color-fitted-level-1);\n",
              "}\n",
              "\n",
              "/* On hover */\n",
              "#sk-container-id-1 a.estimator_doc_link:hover {\n",
              "  /* unfitted */\n",
              "  background-color: var(--sklearn-color-unfitted-level-3);\n",
              "  color: var(--sklearn-color-background);\n",
              "  text-decoration: none;\n",
              "}\n",
              "\n",
              "#sk-container-id-1 a.estimator_doc_link.fitted:hover {\n",
              "  /* fitted */\n",
              "  background-color: var(--sklearn-color-fitted-level-3);\n",
              "}\n",
              "</style><div id=\"sk-container-id-1\" class=\"sk-top-container\"><div class=\"sk-text-repr-fallback\"><pre>MultinomialNB()</pre><b>In a Jupyter environment, please rerun this cell to show the HTML representation or trust the notebook. <br />On GitHub, the HTML representation is unable to render, please try loading this page with nbviewer.org.</b></div><div class=\"sk-container\" hidden><div class=\"sk-item\"><div class=\"sk-estimator fitted sk-toggleable\"><input class=\"sk-toggleable__control sk-hidden--visually\" id=\"sk-estimator-id-1\" type=\"checkbox\" checked><label for=\"sk-estimator-id-1\" class=\"sk-toggleable__label fitted sk-toggleable__label-arrow fitted\">&nbsp;&nbsp;MultinomialNB<a class=\"sk-estimator-doc-link fitted\" rel=\"noreferrer\" target=\"_blank\" href=\"https://scikit-learn.org/1.5/modules/generated/sklearn.naive_bayes.MultinomialNB.html\">?<span>Documentation for MultinomialNB</span></a><span class=\"sk-estimator-doc-link fitted\">i<span>Fitted</span></span></label><div class=\"sk-toggleable__content fitted\"><pre>MultinomialNB()</pre></div> </div></div></div></div>"
            ]
          },
          "metadata": {},
          "execution_count": 19
        }
      ],
      "source": [
        "# es muy fácil instanciar un modelo de clasificación Naïve Bayes y entrenarlo con sklearn\n",
        "clf = MultinomialNB()\n",
        "clf.fit(X_train, y_train)"
      ]
    },
    {
      "cell_type": "code",
      "execution_count": 20,
      "metadata": {
        "id": "NrQjzM48Mu4T"
      },
      "outputs": [],
      "source": [
        "# con nuestro vectorizador ya fiteado en train, vectorizamos los textos\n",
        "# del conjunto de test\n",
        "X_test = tfidfvect.transform(newsgroups_test.data)\n",
        "y_test = newsgroups_test.target\n",
        "y_pred =  clf.predict(X_test)"
      ]
    },
    {
      "cell_type": "code",
      "execution_count": 21,
      "metadata": {
        "colab": {
          "base_uri": "https://localhost:8080/"
        },
        "id": "UkGJhetEPdA4",
        "outputId": "44291ee0-dbb6-456f-e94e-7ba0c5e410a7"
      },
      "outputs": [
        {
          "output_type": "execute_result",
          "data": {
            "text/plain": [
              "0.5854345727938506"
            ]
          },
          "metadata": {},
          "execution_count": 21
        }
      ],
      "source": [
        "# el F1-score es una metrica adecuada para reportar desempeño de modelos de claificación\n",
        "# es robusta al desbalance de clases. El promediado 'macro' es el promedio de los\n",
        "# F1-score de cada clase. El promedio 'micro' es equivalente a la accuracy que no\n",
        "# es una buena métrica cuando los datasets son desbalanceados\n",
        "f1_score(y_test, y_pred, average='macro')"
      ]
    },
    {
      "cell_type": "markdown",
      "metadata": {
        "id": "McArD4rSDR2K"
      },
      "source": [
        "### Consigna del desafío 1"
      ]
    },
    {
      "cell_type": "markdown",
      "metadata": {
        "id": "lJgf6GQIIEH1"
      },
      "source": [
        "**1**. Vectorizar documentos. Tomar 5 documentos al azar y medir similaridad con el resto de los documentos.\n",
        "Estudiar los 5 documentos más similares de cada uno analizar si tiene sentido\n",
        "la similaridad según el contenido del texto y la etiqueta de clasificación.\n",
        "\n"
      ]
    },
    {
      "cell_type": "code",
      "source": [
        "#Empezamos elegindo al azar 5 documentos:\n",
        "# Veamos similaridad de documentos. Tomemos algún documento\n",
        "idx_1 = 2517\n",
        "idx_2 = 4962\n",
        "idx_3 = 6851\n",
        "idx_4 = 7585\n",
        "idx_5 = 10515\n"
      ],
      "metadata": {
        "id": "TTgHsv2lKCUe"
      },
      "execution_count": 22,
      "outputs": []
    },
    {
      "cell_type": "code",
      "source": [
        "#Documento 1\n",
        "print(newsgroups_train.data[idx_1])"
      ],
      "metadata": {
        "colab": {
          "base_uri": "https://localhost:8080/"
        },
        "id": "tQInpZLfK2-4",
        "outputId": "9c0553fb-a477-433e-b73d-25f247d56a14"
      },
      "execution_count": 23,
      "outputs": [
        {
          "output_type": "stream",
          "name": "stdout",
          "text": [
            "\n",
            "\n",
            "\n",
            "     Depends on what you mean by classy. From what I've heard about\n",
            "him, he was about as classy as Harold Ballard.  Only difference was\n",
            "that back then almost all the owners were like that, so he seemed okay\n",
            "by comparison.  Read the book \"Net Worth\" for one view of what Smythe\n",
            "(and Norris and Adams and Campbell) were like. \n",
            "\n",
            "\n",
            "\n",
            "     Even more specifically, I think what Roger was saying (and I said\n",
            "it previously too) is that these are NOT the people who made the\n",
            "league great, so why should divisions, conferences etc. be named after\n",
            "them instead of Morenz, Vezina, Howe, Orr etc., the people who DID\n",
            "make it great.  Instead, the NHL has chosen to immortalize the men who\n",
            "got rich off of the men who made the game great.  \n",
            "\n"
          ]
        }
      ]
    },
    {
      "cell_type": "code",
      "source": [
        "#Documento 2\n",
        "print(newsgroups_train.data[idx_2])"
      ],
      "metadata": {
        "colab": {
          "base_uri": "https://localhost:8080/"
        },
        "id": "H2eeH22tLKYO",
        "outputId": "6f3b35bb-c395-4f0a-ff65-0b90f31c6414"
      },
      "execution_count": 24,
      "outputs": [
        {
          "output_type": "stream",
          "name": "stdout",
          "text": [
            "\n",
            "\n",
            "\n",
            "\n",
            "In most cases information you come by properly is yours to use as you wish,\n",
            "but there are certainly exceptions.  If you write a paper which includes\n",
            "sufficiently detailed information on how to build a nuclear weapon, it is\n",
            "classified.  As I understand the law, nuclear weapons design is\n",
            "_automatically_ classified even if you do the work yourself.  I believe you\n",
            "are then not allowed to read your own paper.\n",
            "\n",
            "A less serious example: if you tell drivers about a speed trap they are\n",
            "about to run into, you can be fined, even though you might argue that you\n",
            "broke no law when you discovered the location of the policeman.  The charge\n",
            "is interfering with a police officer, which is quite similar what you would\n",
            "be doing by reverse engineering the Clipper chip.\n",
            "\n",
            "Don't tell me that you think this violates the Constitution -- find some\n",
            "court cases which have struck down such laws.  Many people would not be\n",
            "comforted by the fact that the government violated their rights when it\n",
            "imprisoned them.\n",
            "\n"
          ]
        }
      ]
    },
    {
      "cell_type": "code",
      "source": [
        "#Documento 3\n",
        "print(newsgroups_train.data[idx_3])"
      ],
      "metadata": {
        "colab": {
          "base_uri": "https://localhost:8080/"
        },
        "id": "XVEKtAzHLTXs",
        "outputId": "5d6ecf74-ea8c-4ce0-a763-939f9c475b56"
      },
      "execution_count": 25,
      "outputs": [
        {
          "output_type": "stream",
          "name": "stdout",
          "text": [
            "\n",
            "I'd like to remind people of the withering of the fig tree and Jesus\n",
            "driving the money changers et. al. out of the temple.  I think those\n",
            "were two instances of Christ showing anger (as part of His human side).\n"
          ]
        }
      ]
    },
    {
      "cell_type": "code",
      "source": [
        "#Documento 4\n",
        "print(newsgroups_train.data[idx_4])"
      ],
      "metadata": {
        "colab": {
          "base_uri": "https://localhost:8080/"
        },
        "id": "sEnvgVLZLWsp",
        "outputId": "561246b8-90a0-4f48-9a84-914eca47033b"
      },
      "execution_count": 26,
      "outputs": [
        {
          "output_type": "stream",
          "name": "stdout",
          "text": [
            "Note: I am cross-posting (actually, emailing) this to \n",
            "bit.listserv.catholic while main posting goes to \n",
            "soc.religion.christian.\n",
            "\n",
            "[Quotations omitted.  This is in response to a question about\n",
            "the Immaculate Conception.  I explained it, but left justification\n",
            "up to our Catholic readers.  --clh]\n",
            "\n",
            "There is no direct reference in the Holy Scripture except for the\n",
            "mention of Mary's _blessedness_/full of grace in the \"Annunciation\" by\n",
            "Angel Gabriel in Luke 1:26-28\n",
            "\n",
            " And in the 6th month the angel Gabriel was sent from God unto\n",
            " a city of Galilee, named Nazareth.  To a virgin espoused to a\n",
            " man whose name was Joseph, of the house of David; and the virgin's\n",
            " name was Mary.  And the angel came unto her and said, _\"Hail,\n",
            " thou that art highly favoured, the Lord is with thee: blessed\n",
            " art thou among women.\"_\n",
            "\n",
            "Now, now, hold that line of thought - \"the Lord is with Mary &\n",
            "blessed art thou among women\" - while you read on....\n",
            "\n",
            "In the book, \"First Lady of the World, A Popular History of\n",
            "Devotion to Mary\" by Peter Lappin:\n",
            "\n",
            "The _Immaculate Conception_ matter is really far more complicated\n",
            "than the _Assumption_.  This arose in 430 AD.  It is quite possible\n",
            "that the feast of _Mary's Conception_ under the title \"The Conception\n",
            "of Saint Anne\", originally commemorated the _physical miracle_ of\n",
            "a woman _beyond the age_ of child bearing, conceiving a daughter,\n",
            "just as Elizabeth had conceived John the Baptist.  A transfer in\n",
            "emphasis from the physical miracle wrought in Anne to the miracle\n",
            "of grace wrought by God in the soul of Mary was _logical_.  Mary\n",
            "is the incorruptible timber \"out of which was hewn the _tabernacle_\n",
            "of Christ's sinless body\"; she is \"God's Eden, in whom there is\n",
            "no tree of knowledge, and no serpent that harms.\"  Her perfect\n",
            "beauty and spotlessness find their exemplar in Christ, her\n",
            "purity in that of the Father.  At the time of the Council of Ephesus,\n",
            "she was hailed as \"innocent, without blemish, immaculate, inviolate,\n",
            "spotless, holy in soul and body, who was blessed as a lily from\n",
            "among thorns, unlearned in the evil ways of Eve\".\n",
            "...\n",
            "At the end of the thirteenth century, an Irish Franciscan,\n",
            "John Duns Scotus (1266-1308),...God maintained that it was a \n",
            "greater thing for Him to preserve His (the Son) mother from all\n",
            "sin _than to use His power to clease her from it later_.\n",
            "...\n",
            "\n",
            "Now let's go to the discussion of baptism and original sin.\n",
            "From \"Pocket Catholic Cathechism\" by John A. Hardon:\n",
            "\n",
            "Baptism -\n",
            "Concupiscence Remains after Baptism.\n",
            "Concupiscence or the tendency to sin remains in the baptized\n",
            "but since it is left to provide trial, it has no power to\n",
            "injure those who do not consent and who by the grace of\n",
            "Christ Jesus, manfully resist (Canon 5).\n",
            "\n",
            "Original gifts of Adam and Eve before their fall:\n",
            "In the light of the foregoing, we see that our first\n",
            "parents were originally gifted three times over:\n",
            "-They had the natural gifts of human beings especially the\n",
            " power to think and to choose freely.\n",
            "-The had the _preternatural_ gifts of bodily immortality\n",
            " and of integrity, or the internal power to control desires.\n",
            "-They had the _supernatural_ gifts of sanctifying grace,\n",
            " the virtues of faith, hope, and charity and the corresponding\n",
            " title to enter heaven.\n",
            "By their disobedience, they lost the _supernatural and\n",
            "preternatural_ gifts entirely, and were weakened (without\n",
            "losing) their natural capacity to reason and to choose\n",
            "freely.\n",
            "\n",
            "Baptism restores the _supernatural_ life lost by Adam's\n",
            "sin.  It _does not_ restore the _preternatural_ gifts\n",
            "but gifts as a title to a glorified restoration of our\n",
            "bodies on the last day...\n",
            "\n",
            "Going back to _Immaculate Conception_\n",
            "(I am not sure if this interpretation is in any other\n",
            "books but it may be another contribution to the 'puzzle'):\n",
            "\n",
            "Given the miracle of St. Anne bearing a child at a\n",
            "non-childbearing age, AND Christ was not yet born \n",
            "AND _there was no baptism yet_ on Mary's birth but\n",
            "STILL, the Angel Gabriel's greetings was:\n",
            "\"Hail Mary, full of grace, the Lord is with you.\n",
            "Blessed art thou amongst women\".\n",
            "\n",
            "Even Mary was confused about this greeting.\n",
            "\n",
            "Mary could very well have possessed all of the\n",
            "_treefold original gifts above_ given to our first\n",
            "parents (Adam and Eve before their sin):\n",
            "    Hail Mary (Example of praise given by the Angel Gabriel)\n",
            "    Full of grace (natural, preternatural, supernatural)\n",
            "    The Lord is with you (At those times, God would\n",
            "                definitely want to be with those He\n",
            "                has made _blessed_)\n",
            "    Blessed art thou amongst women (that says it all)\n",
            "\n",
            "At the conception, God made Mary _full of grace\n",
            "and blessed_ as the 'tabernacle' for the coming body\n",
            "of Christ and so,\n",
            "\n",
            "Immaculate Conception of Mary is true and Mary still\n",
            "has maintained her Immaculate Heart. \n"
          ]
        }
      ]
    },
    {
      "cell_type": "code",
      "source": [
        "#Documento 5\n",
        "print(newsgroups_train.data[idx_5])"
      ],
      "metadata": {
        "colab": {
          "base_uri": "https://localhost:8080/"
        },
        "id": "1lQz8j7nLZxV",
        "outputId": "9553193a-8629-4726-b850-16e1aaab1947"
      },
      "execution_count": 27,
      "outputs": [
        {
          "output_type": "stream",
          "name": "stdout",
          "text": [
            "\n",
            "\n",
            "\n",
            "I can see high-voltage type display devices being vulnerable (CRTs,\n",
            "plasma displays, etc.)  But Jason beat me to this question.  What\n",
            "about EM radiation from low-voltage items like LCD displays?\n"
          ]
        }
      ]
    },
    {
      "cell_type": "markdown",
      "source": [
        "### Ahora chequeamos los detalles requisitados para cada documento:"
      ],
      "metadata": {
        "id": "inMM4HkzMyp-"
      }
    },
    {
      "cell_type": "code",
      "source": [
        "from itertools import count\n",
        "for doc_id in [idx_1, idx_2, idx_3, idx_4, idx_5]:\n",
        "  print(f'Documento {doc_id}')\n",
        "  # midamos la similaridad coseno con todos los documentos de train\n",
        "  cossim = cosine_similarity(X_train[doc_id], X_train)[0]\n",
        "\n",
        "  # podemos ver los valores de similaridad ordenados de mayor a menor\n",
        "  sim_ordenada = np.sort(cossim)[::-1][1:6]\n",
        "\n",
        "  # y a qué documentos corresponden\n",
        "  doc_corr = np.argsort(cossim)[::-1][1:6]\n",
        "\n",
        "  # cantidad de documentos corresponden\n",
        "  cant_doc_corr = count(np.argsort(cossim)[::-1][1:6])\n",
        "\n",
        "  # los 5 documentos más similares:\n",
        "  mostsim = np.argsort(cossim)[::-1][1:6]\n",
        "\n",
        "  # el documento original pertenece a la clase:\n",
        "  class_orig = newsgroups_train.target_names[y_train[doc_id]]\n",
        "\n",
        "  # y los 5 más similares son de las clases:\n",
        "  for i in mostsim:\n",
        "    print(newsgroups_train.target_names[y_train[i]])"
      ],
      "metadata": {
        "colab": {
          "base_uri": "https://localhost:8080/"
        },
        "id": "u484ubauMlEg",
        "outputId": "6cacdfbb-28ee-401e-bd17-ea069134e424"
      },
      "execution_count": 28,
      "outputs": [
        {
          "output_type": "stream",
          "name": "stdout",
          "text": [
            "Documento 2517\n",
            "rec.sport.hockey\n",
            "rec.sport.hockey\n",
            "talk.politics.mideast\n",
            "talk.politics.mideast\n",
            "soc.religion.christian\n",
            "Documento 4962\n",
            "sci.crypt\n",
            "talk.politics.mideast\n",
            "talk.politics.mideast\n",
            "talk.religion.misc\n",
            "soc.religion.christian\n",
            "Documento 6851\n",
            "alt.atheism\n",
            "talk.religion.misc\n",
            "soc.religion.christian\n",
            "soc.religion.christian\n",
            "soc.religion.christian\n",
            "Documento 7585\n",
            "soc.religion.christian\n",
            "soc.religion.christian\n",
            "soc.religion.christian\n",
            "alt.atheism\n",
            "soc.religion.christian\n",
            "Documento 10515\n",
            "sci.crypt\n",
            "sci.electronics\n",
            "sci.electronics\n",
            "comp.graphics\n",
            "sci.space\n"
          ]
        }
      ]
    },
    {
      "cell_type": "code",
      "source": [
        "# prompt: para cada documento arriba, chequear los 5 documentos más similares de cada uno analizar si tiene sentido la similaridad según el contenido del texto y la etiqueta de clasificación con el dataset de entrenamiento\n",
        "\n",
        "from IPython.display import display, HTML\n",
        "\n",
        "def display_table(doc_ids, newsgroups_train, X_train, y_train):\n",
        "    table_html = \"<table><thead><tr><th>Document ID</th><th>Original Document Class</th><th>5 Most Similar Document IDs</th><th>5 Most Similar Classes</th></tr></thead><tbody>\"\n",
        "    for doc_id in doc_ids:\n",
        "        cossim = cosine_similarity(X_train[doc_id], X_train)[0]\n",
        "        mostsim = np.argsort(cossim)[::-1][1:6]\n",
        "        original_class = newsgroups_train.target_names[y_train[doc_id]]\n",
        "        similar_docs_classes = \"\"\n",
        "        similar_doc_ids = \"\"\n",
        "        for i in mostsim:\n",
        "            similar_docs_classes += f\"{newsgroups_train.target_names[y_train[i]]}<br>\"\n",
        "            similar_doc_ids += f\"{i}<br>\"\n",
        "\n",
        "        table_html += f\"<tr><td>{doc_id}</td><td>{original_class}</td><td>{similar_doc_ids}</td><td>{similar_docs_classes}</td></tr>\"\n",
        "    table_html += \"</tbody></table>\"\n",
        "    display(HTML(table_html))\n",
        "\n",
        "# Example usage (assuming you have the necessary variables defined)\n",
        "# Replace with your actual document IDs if different\n",
        "idx_1 = 2517\n",
        "idx_2 = 4962\n",
        "idx_3 = 6851\n",
        "idx_4 = 7585\n",
        "idx_5 = 10515\n",
        "\n",
        "display_table([idx_1, idx_2, idx_3, idx_4, idx_5], newsgroups_train, X_train, y_train)"
      ],
      "metadata": {
        "colab": {
          "base_uri": "https://localhost:8080/",
          "height": 495
        },
        "id": "cSsIla4hIGFP",
        "outputId": "1f020bd7-e985-412c-b559-bef558fc4775"
      },
      "execution_count": 29,
      "outputs": [
        {
          "output_type": "display_data",
          "data": {
            "text/plain": [
              "<IPython.core.display.HTML object>"
            ],
            "text/html": [
              "<table><thead><tr><th>Document ID</th><th>Original Document Class</th><th>5 Most Similar Document IDs</th><th>5 Most Similar Classes</th></tr></thead><tbody><tr><td>2517</td><td>rec.sport.hockey</td><td>1898<br>7087<br>9623<br>1292<br>5826<br></td><td>rec.sport.hockey<br>rec.sport.hockey<br>talk.politics.mideast<br>talk.politics.mideast<br>soc.religion.christian<br></td></tr><tr><td>4962</td><td>sci.crypt</td><td>9115<br>8726<br>4564<br>8754<br>10106<br></td><td>sci.crypt<br>talk.politics.mideast<br>talk.politics.mideast<br>talk.religion.misc<br>soc.religion.christian<br></td></tr><tr><td>6851</td><td>soc.religion.christian</td><td>913<br>7312<br>707<br>634<br>10754<br></td><td>alt.atheism<br>talk.religion.misc<br>soc.religion.christian<br>soc.religion.christian<br>soc.religion.christian<br></td></tr><tr><td>7585</td><td>soc.religion.christian</td><td>8222<br>5572<br>5099<br>913<br>10683<br></td><td>soc.religion.christian<br>soc.religion.christian<br>soc.religion.christian<br>alt.atheism<br>soc.religion.christian<br></td></tr><tr><td>10515</td><td>sci.crypt</td><td>6535<br>386<br>5067<br>7769<br>4535<br></td><td>sci.crypt<br>sci.electronics<br>sci.electronics<br>comp.graphics<br>sci.space<br></td></tr></tbody></table>"
            ]
          },
          "metadata": {}
        }
      ]
    },
    {
      "cell_type": "code",
      "source": [
        "from IPython.display import HTML, display\n",
        "\n",
        "def display_table(doc_ids, newsgroups_train, X_train, y_train):\n",
        "    table_html = \"<table border='1'><thead><tr><th>Document ID</th><th>Original Document Class</th><th>Top 5 Similar Documents (Text Snippets)</th></tr></thead><tbody>\"\n",
        "    for doc_id in doc_ids:\n",
        "        cossim = cosine_similarity(X_train[doc_id], X_train)[0]\n",
        "        mostsim = np.argsort(cossim)[::-1][1:6]\n",
        "        original_class = newsgroups_train.target_names[y_train[doc_id]]\n",
        "        similar_docs_text = \"\"\n",
        "        for i in mostsim:\n",
        "            text = newsgroups_train.data[i]\n",
        "            #split the text and take first 10 lines\n",
        "            lines = text.split('\\n')[:10]\n",
        "            text_snippet = \"<br>\".join(lines)\n",
        "            similar_docs_text += f\"<p>Document ID: {i}<br>Class: {newsgroups_train.target_names[y_train[i]]}<br>Text:<br>{text_snippet}</p>\"\n",
        "\n",
        "\n",
        "        table_html += f\"<tr><td>{doc_id}</td><td>{original_class}</td><td>{similar_docs_text}</td></tr>\"\n",
        "    table_html += \"</tbody></table>\"\n",
        "    display(HTML(table_html))\n",
        "\n",
        "# Example usage\n",
        "idx_1 = 2517\n",
        "idx_2 = 4962\n",
        "idx_3 = 6851\n",
        "idx_4 = 7585\n",
        "idx_5 = 10515\n",
        "\n",
        "display_table([idx_1, idx_2, idx_3, idx_4, idx_5], newsgroups_train, X_train, y_train)"
      ],
      "metadata": {
        "colab": {
          "base_uri": "https://localhost:8080/",
          "height": 1000
        },
        "id": "QVy7HwgpUZkn",
        "outputId": "de71101e-ed55-488f-ee78-41b02b7c1cb6"
      },
      "execution_count": 30,
      "outputs": [
        {
          "output_type": "display_data",
          "data": {
            "text/plain": [
              "<IPython.core.display.HTML object>"
            ],
            "text/html": [
              "<table border='1'><thead><tr><th>Document ID</th><th>Original Document Class</th><th>Top 5 Similar Documents (Text Snippets)</th></tr></thead><tbody><tr><td>2517</td><td>rec.sport.hockey</td><td><p>Document ID: 1898<br>Class: rec.sport.hockey<br>Text:<br><br><br><br><br>\tI think that you are incorrect, Roger.  Patrick,<br>Smythe and Adams all played or coached in the league before becoming<br>front office types.  Hence, they did help build the league, although<br>they were not great players themselves.  <br><br>\tI agree that a name is a name is a name, and if some people</p><p>Document ID: 7087<br>Class: rec.sport.hockey<br>Text:<br><br><br>Punch Imlach's contributions as a coach and GM were far greater than<br>those of the above combined.  Should we name a division or trophy after<br>him?  Smythe and Norris and the bunch were honoured purely because they<br>were powerful owners.  As owners they certainly did help to build the<br>league but whether they developed the game is another question altogether.<br>Are we going to honour those who contributed to the league's evolution<br>or are we going to honour those who contributed to the glory of the <br>sport itself?   </p><p>Document ID: 9623<br>Class: talk.politics.mideast<br>Text:<br>Accounts of Anti-Armenian Human Right Violations in Azerbaijan #012<br>                 Prelude to Current Events in Nagorno-Karabakh<br><br>        +---------------------------------------------------------+<br>        |                                                         |<br>        |  I saw a naked girl with her hair down. They were       |<br>        |  dragging her. She kept falling because they were       |<br>        |  pushing her and kicking her. She fell down, it was     |<br>        |  muddy there, and later other witnesses who saw it from |<br>        |  their balconies told us, they seized her by the hair   |</p><p>Document ID: 1292<br>Class: talk.politics.mideast<br>Text:<br>Accounts of Anti-Armenian Human Right Violations in Azerbaijan #008 Part B<br>                 Prelude to Current Events in Nagorno-Karabakh<br><br>\t\t\t\t(Part B of #008)<br><br>      +------------------------------------------------------------------+<br>      |                                                                  |<br>      | \"Oh, yes, I just remembered. While they were raping me they      |<br>      |  repeated quite frequently, \"Let the Armenian women have babies  |<br>      |  for us, Muslim babies, let them bear Azerbaijanis for the       |</p><p>Document ID: 5826<br>Class: soc.religion.christian<br>Text:<br>A listmember (D Andrew Killie, I think) wrote, in response to the<br>suggestion that genocide may sometimes be the will of God:<br><br> > Any God who works that way is indescribably evil,<br> > and unworthy of my worship or faith.<br><br>Nobuya \"Higgy\" Higashiyama replied (as, in substance, did others):<br><br> > Where is your source of moral standards by which you judge God's<br> > behavior?</p></td></tr><tr><td>4962</td><td>sci.crypt</td><td><p>Document ID: 9115<br>Class: sci.crypt<br>Text:<br><br><br>It is incompetent, like almost anything you have posted here, so<br>you'll be flamed, sorry.<br><br><br>%/$( your \"20 years of background in two Fortune 50 companies\"; I've<br>lived 30 years under a totalitarian regime, and boy, I *can* recognize<br>a totalitarian plot when I see one...<br></p><p>Document ID: 8726<br>Class: talk.politics.mideast<br>Text:<br><br><br>[After a small refresh Hasan got on the track again.]<br><br><br><br><br>   |>    |> I get the impression Hasan realized he goofed and is now<br>   |>    |> trying to drop the thread. Let him. It might save some<br>   |>    |> miniscule portion of his sorry face.</p><p>Document ID: 4564<br>Class: talk.politics.mideast<br>Text:<br><br>[ stuff deleted ]<br>   |> Are you calling names, or giving me a title? If the first, read your <br>   |> paragraph above, if not I accept the title, in order to let you get into the<br>   |> um, well, debate again.<br><br>   Hasan replies:<br>   I didnot know that \"Master of wisdom\" can be \"name clling\" too,<br>   unless you consider yourself deserve-less !<br></p><p>Document ID: 8754<br>Class: talk.religion.misc<br>Text:<br><br>/(hudson)<br>/If someone inflicts pain on themselves, whether they enjoy it or not, they<br>/are hurting themselves.  They may be permanently damaging their body.<br><br>That is true.  It is also none of your business.  <br><br>Some people may also reason that by reading the bible and being a Xtian<br>you are permanently damaging your brain.  By your logic, it would be OK<br>for them to come into your home, take away your bible, and send you off</p><p>Document ID: 10106<br>Class: soc.religion.christian<br>Text:<br>[In looking through my files this weekend, I ran across some lyrics from<br>various rock groups that have content.  Here are two from Black Sabbath's<br>\"Master of Reality\".  I'll say this much for the music of the '60's and early<br>'70's, at least they asked questions of significance.  Jethro Tull is another<br>to asked and wrote about things that caused one to wonder. --Rex] <br><br>AFTER FOREVER<br><br>Have you ever thought about your soul--<br>     can it be saved?</p></td></tr><tr><td>6851</td><td>soc.religion.christian</td><td><p>Document ID: 913<br>Class: alt.atheism<br>Text:<br>The recent rise of nostalgia in this group, combined with the<br>  incredible level of utter bullshit, has prompted me to comb<br>  through my archives and pull out some of \"The Best of Alt.Atheism\"<br>  for your reading pleasure.  I'll post a couple of these a day<br>  unless group concensus demands that I stop, or I run out of good<br>  material.<br><br>  I haven't been particularly careful in the past about saving<br>  attributions.  I think the following comes from John A. Johnson,<br>  but someone correct me if I'm wrong.  This is probably the longest</p><p>Document ID: 7312<br>Class: talk.religion.misc<br>Text:<br>DROPLET VOL 1, No 11, Part 3<br><br>D R O P L E T<br>From The Vast Ocean Of The Miraculous Qur'an<br><br>Translations from the Arabic and Turkish Writings of <br>Bediuzzaman Said Nursi, The Risale-i Noor<br><br>VOL 1, No 11, Part 3<br>------------------------------------------------------------------</p><p>Document ID: 707<br>Class: soc.religion.christian<br>Text:<br>I differ with our moderator on this.  I thought the whole idea of God coming<br>down to earth to live as one of us \"subject to sin and death\" (as one of<br>the consecration prayers in the Book of Common Prayer (1979) puts it) was<br>that Jesus was tempted, but did not succumb.  If sin is not part of the<br>basic definition of humanity, then Jesus \"fully human\" (Nicea) would not<br>be \"subject to sin\", but then the Resurrection loses some of its meaning,<br>because we encounter our humanity most powerfully when we sin.  To distinguish<br>between \"human\" and \"fallen human\" makes Jesus less like one of us at the<br>time we need him most.<br></p><p>Document ID: 634<br>Class: soc.religion.christian<br>Text:<br><br>The existence of repeated earth lives and destiny (karma) does not<br>mean that everything that happens is predetermined by past deeds.<br>There is an oriental view of it that tends in that direction, but I<br>did not subscribe to that view.  God may choose one individual over<br>another as the fit instrument for his plans, but that does not<br>preclude that the development of that individual into what he is in<br>this earthly life is not the result of a longer course of development.<br><br>I do not, and Rudolf Steiner did not, subscribe to the oriental view</p><p>Document ID: 10754<br>Class: soc.religion.christian<br>Text:<br><br>[ Much deletion.  He is trying to explain the Immaculate Conception<br>and the Assumption of Mary.]<br><br><br>If this is true than why in the Genesis story is God concerned that<br>Adam and Eve might also eat from the Tree of Life and live forever and<br>be like gods?  Eating of the tree of life would not take away the<br>effects of eating of the Tree of Knowledge.  Is there any reason to<br>assume that they had already eaten of the Tree of Life and so had</p></td></tr><tr><td>7585</td><td>soc.religion.christian</td><td><p>Document ID: 8222<br>Class: soc.religion.christian<br>Text:<br>Biblical basis for the Immaculate Conception:<br><br>1) \"I will put enmity between you [the Serpent] and the woman, and<br>between your seed and her seed, she [can also be read he] shall crush<br>your head and you shall bruise her [or his] heel.\"<br>    -Genesis 3.15<br><br>2) \"He who commits sin is of the devil ...\"<br>    -1 John 3.8<br></p><p>Document ID: 5572<br>Class: soc.religion.christian<br>Text:<br>A few points about Mary's being taken into heaven at the end of her life on<br>earth:<br><br>One piece of evidence for Mary's assumption into heaven is the fact<br>that no Christian church ever claimed to be the sight where she was<br>buried. Some Christian churches claimed to be located at the final<br>resting places of Peter, Mark, and other saints, but no one ever<br>claimed to possess the body of Mary, the greatest of the saints. Why?<br>Because everyone knew that she had been taken up into heaven.<br></p><p>Document ID: 5099<br>Class: soc.religion.christian<br>Text:<br>It was a gift from God.  I think basically the reasoning was that the<br>tradition in the Church held that Mary was also without sin as was Jesus.<br>As the tenets of faith developed, particularly with Augustine, sin was<br>more and more equated with sex, and thus Mary was assumed to be a virgin<br>for life (since she never sinned, and since she was the spouse of God, etc.)<br>Since we also had this notion of original sin, ie. that man is born with<br>a predisposition to sin, and since Mary did not have this predisposition<br>because she did not ever sin, she didn't have original sin.  When science<br>discovered the process of conception, the next step was to assume that<br>Mary was conceived without original sin, the Immaculate Conception.</p><p>Document ID: 913<br>Class: alt.atheism<br>Text:<br>The recent rise of nostalgia in this group, combined with the<br>  incredible level of utter bullshit, has prompted me to comb<br>  through my archives and pull out some of \"The Best of Alt.Atheism\"<br>  for your reading pleasure.  I'll post a couple of these a day<br>  unless group concensus demands that I stop, or I run out of good<br>  material.<br><br>  I haven't been particularly careful in the past about saving<br>  attributions.  I think the following comes from John A. Johnson,<br>  but someone correct me if I'm wrong.  This is probably the longest</p><p>Document ID: 10683<br>Class: soc.religion.christian<br>Text:<br><br><br>The argument for Luke's genealogy being that of Mary is very weak. According<br>to Luke 3:23<br><br>   And when he began his ministry, Jesus himself was about <br>   thirty years of age, being supposedly the son of Joseph,<br>   the son of Eli,<br><br>Aside from the fact that Mary is not mentioned, there are two possible</p></td></tr><tr><td>10515</td><td>sci.crypt</td><td><p>Document ID: 6535<br>Class: sci.crypt<br>Text:<br><br>are LCD displays vulnerable to tempest?<br><br><br>i'll second that.<br><br>jason<br><br></p><p>Document ID: 386<br>Class: sci.electronics<br>Text:<br>Sci.E(E) netters:<br><br>I am setting out to build and market a small electronic device that <br>requires an LCD display.  All of the analog electronics are working <br>fine, I have ordered a PIC ICE (not vice versa) since the PICs are so <br>cheap and low-power, but I am having a devil of a time finding any <br>LCD displays in the 6-8 digit range that are priced as low as I need.  I <br>am looking for somthing in the range of $1 in quantities of about <br>1000-10,000.<br></p><p>Document ID: 5067<br>Class: sci.electronics<br>Text:<br><br><br><br>Since your MOSFET is a 1972 vintage, it's probably not a very good one by <br>today's standards.  If you have an idea about its voltage and current <br>ratings, e.g. 60VDC @ 6A, you can probably get away with replacing it with <br>anything with better specs.  Early MOSFETS had a gate-source voltage rating <br>of approximately +/- 20 VDCmax, and they would usually turn completely \"ON\" <br>at +10VDC.  Otherwise, MOSFETS are not really mysterious -- they're more or <br>less voltage controlled current sources.  If the MOSFET in your circuit is </p><p>Document ID: 7769<br>Class: comp.graphics<br>Text:<br>I require BGI drivers for Super VGA Displays and Super XVGA Displays. Does <br>anyone know where I could obtain the relevant drivers ? (FTP sites ??)<br><br>\tRegards<br></p><p>Document ID: 4535<br>Class: sci.space<br>Text:<br><br>It wasn't especially prominent, as I recall.  However, quite possibly it's<br>no longer on display; NASM, like most museums, has much more stuff than it<br>can display at once, and does rotate the displays occasionally.</p></td></tr></tbody></table>"
            ]
          },
          "metadata": {}
        }
      ]
    },
    {
      "cell_type": "markdown",
      "source": [
        "#### Conclusion de los documentos similares:\n",
        "##### EL contenido de los documentos tiene sentido la similaridad según el contenido del texto y la etiqueta de clasificación conforme podemos observar arriba en el cuadro comparativo del texto origen y los documentos similares.\n"
      ],
      "metadata": {
        "id": "1o9mYMkqUnh_"
      }
    },
    {
      "cell_type": "markdown",
      "metadata": {
        "id": "HzpRA7zCJHHr"
      },
      "source": [
        "**2**. Entrenar modelos de clasificación Naïve Bayes para maximizar el desempeño de clasificación\n",
        "(f1-score macro) en el conjunto de datos de test. Considerar cambiar parámteros\n",
        "de instanciación del vectorizador y los modelos y probar modelos de Naïve Bayes Multinomial\n",
        "y ComplementNB.\n",
        "\n"
      ]
    },
    {
      "cell_type": "markdown",
      "source": [
        "### Modelo de clasificación Naïve Bayes"
      ],
      "metadata": {
        "id": "yh9MJtc1VMS8"
      }
    },
    {
      "cell_type": "code",
      "source": [
        "# Diferentes vectorizadores\n",
        "vectorizers = [\n",
        "    TfidfVectorizer(),\n",
        "    TfidfVectorizer(ngram_range=(1, 2)),  # Intentando bigramas\n",
        "    TfidfVectorizer(max_df=0.90, min_df=2),\n",
        "    CountVectorizer(),\n",
        "    CountVectorizer(ngram_range=(1, 2)),\n",
        "    CountVectorizer(max_df=0.90, min_df=2)\n",
        "]\n",
        "\n",
        "# Experimento con distinstos modelos y parametros\n",
        "naive_bayes_models = [\n",
        "    MultinomialNB(),\n",
        "    MultinomialNB(alpha=0.2), # Ayuste fino para identificar mejora\n",
        "    ComplementNB(),\n",
        "    ComplementNB(alpha=0.2)\n",
        "]\n",
        "\n",
        "best_f1_score = 0\n",
        "best_vectorizer = None\n",
        "best_model = None\n",
        "\n",
        "for vectorizer in vectorizers:\n",
        "    X_train = vectorizer.fit_transform(newsgroups_train.data)\n",
        "    X_test = vectorizer.transform(newsgroups_test.data)\n",
        "\n",
        "    for model in naive_bayes_models:\n",
        "        model.fit(X_train, y_train)\n",
        "        y_pred = model.predict(X_test)\n",
        "        f1 = f1_score(y_test, y_pred, average='macro')\n",
        "        print(f\"Vectorizer: {vectorizer}, Model: {model}, F1-score: {f1}\")\n",
        "\n",
        "        if f1 > best_f1_score:\n",
        "            best_f1_score = f1\n",
        "            best_vectorizer = vectorizer\n",
        "            best_model = model\n",
        "\n",
        "print(f\"\\nBest F1-score: {best_f1_score}\")\n",
        "print(f\"Best Vectorizer: {best_vectorizer}\")\n",
        "print(f\"Best Model: {best_model}\")"
      ],
      "metadata": {
        "colab": {
          "base_uri": "https://localhost:8080/"
        },
        "id": "DOrss7k9Vm4W",
        "outputId": "f3af93f7-0bd3-41c0-8cd5-9aaea1945835"
      },
      "execution_count": 31,
      "outputs": [
        {
          "output_type": "stream",
          "name": "stdout",
          "text": [
            "Vectorizer: TfidfVectorizer(), Model: MultinomialNB(), F1-score: 0.5854345727938506\n",
            "Vectorizer: TfidfVectorizer(), Model: MultinomialNB(alpha=0.2), F1-score: 0.6424801988698626\n",
            "Vectorizer: TfidfVectorizer(), Model: ComplementNB(), F1-score: 0.692953349950875\n",
            "Vectorizer: TfidfVectorizer(), Model: ComplementNB(alpha=0.2), F1-score: 0.6997383695489467\n",
            "Vectorizer: TfidfVectorizer(ngram_range=(1, 2)), Model: MultinomialNB(), F1-score: 0.5398024946338422\n",
            "Vectorizer: TfidfVectorizer(ngram_range=(1, 2)), Model: MultinomialNB(alpha=0.2), F1-score: 0.6040818249095631\n",
            "Vectorizer: TfidfVectorizer(ngram_range=(1, 2)), Model: ComplementNB(), F1-score: 0.6816839649266335\n",
            "Vectorizer: TfidfVectorizer(ngram_range=(1, 2)), Model: ComplementNB(alpha=0.2), F1-score: 0.7032223083285436\n",
            "Vectorizer: TfidfVectorizer(max_df=0.9, min_df=2), Model: MultinomialNB(), F1-score: 0.5970494639319617\n",
            "Vectorizer: TfidfVectorizer(max_df=0.9, min_df=2), Model: MultinomialNB(alpha=0.2), F1-score: 0.655655758634977\n",
            "Vectorizer: TfidfVectorizer(max_df=0.9, min_df=2), Model: ComplementNB(), F1-score: 0.6934824308370665\n",
            "Vectorizer: TfidfVectorizer(max_df=0.9, min_df=2), Model: ComplementNB(alpha=0.2), F1-score: 0.6953468583464926\n",
            "Vectorizer: CountVectorizer(), Model: MultinomialNB(), F1-score: 0.5121480984265602\n",
            "Vectorizer: CountVectorizer(), Model: MultinomialNB(alpha=0.2), F1-score: 0.6186406898500451\n",
            "Vectorizer: CountVectorizer(), Model: ComplementNB(), F1-score: 0.637426504468489\n",
            "Vectorizer: CountVectorizer(), Model: ComplementNB(alpha=0.2), F1-score: 0.6416196883539845\n",
            "Vectorizer: CountVectorizer(ngram_range=(1, 2)), Model: MultinomialNB(), F1-score: 0.39954760742234285\n",
            "Vectorizer: CountVectorizer(ngram_range=(1, 2)), Model: MultinomialNB(alpha=0.2), F1-score: 0.5722358096612278\n",
            "Vectorizer: CountVectorizer(ngram_range=(1, 2)), Model: ComplementNB(), F1-score: 0.6587831730954845\n",
            "Vectorizer: CountVectorizer(ngram_range=(1, 2)), Model: ComplementNB(alpha=0.2), F1-score: 0.6623644994672133\n",
            "Vectorizer: CountVectorizer(max_df=0.9, min_df=2), Model: MultinomialNB(), F1-score: 0.5889831618988023\n",
            "Vectorizer: CountVectorizer(max_df=0.9, min_df=2), Model: MultinomialNB(alpha=0.2), F1-score: 0.618914745611834\n",
            "Vectorizer: CountVectorizer(max_df=0.9, min_df=2), Model: ComplementNB(), F1-score: 0.636856758388481\n",
            "Vectorizer: CountVectorizer(max_df=0.9, min_df=2), Model: ComplementNB(alpha=0.2), F1-score: 0.6396186614758061\n",
            "\n",
            "Best F1-score: 0.7032223083285436\n",
            "Best Vectorizer: TfidfVectorizer(ngram_range=(1, 2))\n",
            "Best Model: ComplementNB(alpha=0.2)\n"
          ]
        }
      ]
    },
    {
      "cell_type": "markdown",
      "source": [
        "**3**. Transponer la matriz documento-término. De esa manera se obtiene una matriz\n",
        "término-documento que puede ser interpretada como una colección de vectorización de palabras.\n",
        "Estudiar ahora similaridad entre palabras tomando 5 palabras y estudiando sus 5 más similares. **La elección de palabras no debe ser al azar para evitar la aparición de términos poco interpretables, elegirlas \"manualmente\"**.\n",
        "\n",
        "\n"
      ],
      "metadata": {
        "id": "zI6ewoEcU0TC"
      }
    },
    {
      "cell_type": "code",
      "source": [
        "# instanciamos un vectorizador, vamos a elegir el segundo mejor vetorizador del tipo CountVectorizer obtenido en paso anterior (el primer toma mucha memoria y causa crash)\n",
        "tfidfvect_custom = CountVectorizer(max_df=0.98, min_df=2)\n",
        "\n",
        "X_train = tfidfvect_custom.fit_transform(newsgroups_train.data)"
      ],
      "metadata": {
        "id": "8iYVQOvGdXOA"
      },
      "execution_count": 34,
      "outputs": []
    },
    {
      "cell_type": "code",
      "source": [
        "# Transponer la matriz documento-término\n",
        "X_train_transposed = X_train.T\n",
        "\n",
        "# Calcular la similitud coseno entre términos\n",
        "term_similarity = cosine_similarity(X_train_transposed)\n",
        "\n",
        "# Agarrar el vocabulario vectorizado\n",
        "vocabulary = tfidfvect_custom.vocabulary_\n",
        "\n",
        "# Elegir 5 palabras manualmente\n",
        "words = ['book', 'religion', 'player', 'market', 'god']\n",
        "word_indices = [vocabulary[word] for word in words if word in vocabulary]\n",
        "\n",
        "# Mostrar las 5 palabras más similares para cada palabra elegida\n",
        "for word_index in word_indices:\n",
        "    word = list(vocabulary.keys())[list(vocabulary.values()).index(word_index)]  # Seleciona la palabra actual\n",
        "    similar_word_indices = np.argsort(term_similarity[word_index])[::-1][1:6]  # Hacemos el indice utilizando la similitud coseno y sacamos la propria palabra\n",
        "    similar_words = [list(vocabulary.keys())[list(vocabulary.values()).index(i)] for i in similar_word_indices]  # Selecionando las palabras similares\n",
        "    print(f\"Palabra: {word}\")\n",
        "    print(f\"Palabras similares: {similar_words}\")\n",
        "    print(\"-\" * 20)"
      ],
      "metadata": {
        "colab": {
          "base_uri": "https://localhost:8080/"
        },
        "id": "jyV0WuU9a_74",
        "outputId": "78f5980e-9bd8-4d3a-d5ac-18840b54ae0b"
      },
      "execution_count": 40,
      "outputs": [
        {
          "output_type": "stream",
          "name": "stdout",
          "text": [
            "Palabra: book\n",
            "Palabras similares: ['books', 'published', 'anania', 'shirak', 'diplomats']\n",
            "--------------------\n",
            "Palabra: religion\n",
            "Palabras similares: ['religious', 'theists', 'atheists', 'atheist', 'atheism']\n",
            "--------------------\n",
            "Palabra: player\n",
            "Palabras similares: ['team', 'hockey', 'nhl', 'league', 'ihl']\n",
            "--------------------\n",
            "Palabra: market\n",
            "Palabras similares: ['mdc', 'condor', 'ventures', 'venture', 'launch']\n",
            "--------------------\n",
            "Palabra: god\n",
            "Palabras similares: ['christ', 'bible', 'atheist', 'salvation', 'wicked']\n",
            "--------------------\n"
          ]
        }
      ]
    },
    {
      "cell_type": "markdown",
      "source": [
        "#### Con eso concluimos que fue posible identificar palabras similares y el calculo de similitud funciona como esperado."
      ],
      "metadata": {
        "id": "3VAEGoYojrvC"
      }
    }
  ],
  "metadata": {
    "colab": {
      "provenance": [],
      "machine_shape": "hm"
    },
    "kernelspec": {
      "display_name": "Python 3",
      "name": "python3"
    },
    "language_info": {
      "name": "python"
    }
  },
  "nbformat": 4,
  "nbformat_minor": 0
}