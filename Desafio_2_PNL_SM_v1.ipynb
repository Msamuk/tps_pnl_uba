{
  "cells": [
    {
      "cell_type": "markdown",
      "source": [
        "# Desafío 2 - PNL"
      ],
      "metadata": {
        "id": "hdNH8h0NrCuq"
      }
    },
    {
      "cell_type": "markdown",
      "source": [
        "#### 1 -  Crear sus propios vectores con Gensim basado en lo visto en clase con otro dataset.\n",
        "#### 2 - Probar términos de interés y explicar similitudes en el espacio de embeddings.\n",
        "#### 3 - Intentar plantear y probar tests de analogías.\n",
        "####4 - Graficar los embeddings resultantes. Sacar conclusiones."
      ],
      "metadata": {
        "id": "8Q8COMe7q7WD"
      }
    },
    {
      "cell_type": "markdown",
      "metadata": {
        "id": "sZd5yLnnHOK0"
      },
      "source": [
        "# Procesamiento de lenguaje natural\n",
        "## Custom embedddings con Gensim\n",
        "\n"
      ]
    },
    {
      "cell_type": "markdown",
      "metadata": {
        "id": "vA7nqkumo9z9"
      },
      "source": [
        "### Objetivo\n",
        "El objetivo planteado es utilizar un libro de la historia de la Europa, donde vamos analizar los embeddings:"
      ]
    },
    {
      "cell_type": "markdown",
      "source": [
        "#### Empezamos por instalar las librerias necesarias"
      ],
      "metadata": {
        "id": "Tp3QTWR1Q-wa"
      }
    },
    {
      "cell_type": "code",
      "source": [
        "!pip install tensorflow"
      ],
      "metadata": {
        "colab": {
          "base_uri": "https://localhost:8080/"
        },
        "id": "JNqWr6tFW41b",
        "outputId": "3acdd9c2-5e19-4bb0-99b9-75b4561fa24d"
      },
      "execution_count": null,
      "outputs": [
        {
          "output_type": "stream",
          "name": "stdout",
          "text": [
            "Requirement already satisfied: tensorflow in /usr/local/lib/python3.10/dist-packages (2.17.1)\n",
            "Requirement already satisfied: absl-py>=1.0.0 in /usr/local/lib/python3.10/dist-packages (from tensorflow) (1.4.0)\n",
            "Requirement already satisfied: astunparse>=1.6.0 in /usr/local/lib/python3.10/dist-packages (from tensorflow) (1.6.3)\n",
            "Requirement already satisfied: flatbuffers>=24.3.25 in /usr/local/lib/python3.10/dist-packages (from tensorflow) (24.3.25)\n",
            "Requirement already satisfied: gast!=0.5.0,!=0.5.1,!=0.5.2,>=0.2.1 in /usr/local/lib/python3.10/dist-packages (from tensorflow) (0.6.0)\n",
            "Requirement already satisfied: google-pasta>=0.1.1 in /usr/local/lib/python3.10/dist-packages (from tensorflow) (0.2.0)\n",
            "Requirement already satisfied: h5py>=3.10.0 in /usr/local/lib/python3.10/dist-packages (from tensorflow) (3.12.1)\n",
            "Requirement already satisfied: libclang>=13.0.0 in /usr/local/lib/python3.10/dist-packages (from tensorflow) (18.1.1)\n",
            "Requirement already satisfied: ml-dtypes<0.5.0,>=0.3.1 in /usr/local/lib/python3.10/dist-packages (from tensorflow) (0.4.1)\n",
            "Requirement already satisfied: opt-einsum>=2.3.2 in /usr/local/lib/python3.10/dist-packages (from tensorflow) (3.4.0)\n",
            "Requirement already satisfied: packaging in /usr/local/lib/python3.10/dist-packages (from tensorflow) (24.2)\n",
            "Requirement already satisfied: protobuf!=4.21.0,!=4.21.1,!=4.21.2,!=4.21.3,!=4.21.4,!=4.21.5,<5.0.0dev,>=3.20.3 in /usr/local/lib/python3.10/dist-packages (from tensorflow) (4.25.5)\n",
            "Requirement already satisfied: requests<3,>=2.21.0 in /usr/local/lib/python3.10/dist-packages (from tensorflow) (2.32.3)\n",
            "Requirement already satisfied: setuptools in /usr/local/lib/python3.10/dist-packages (from tensorflow) (75.1.0)\n",
            "Requirement already satisfied: six>=1.12.0 in /usr/local/lib/python3.10/dist-packages (from tensorflow) (1.16.0)\n",
            "Requirement already satisfied: termcolor>=1.1.0 in /usr/local/lib/python3.10/dist-packages (from tensorflow) (2.5.0)\n",
            "Requirement already satisfied: typing-extensions>=3.6.6 in /usr/local/lib/python3.10/dist-packages (from tensorflow) (4.12.2)\n",
            "Requirement already satisfied: wrapt>=1.11.0 in /usr/local/lib/python3.10/dist-packages (from tensorflow) (1.16.0)\n",
            "Requirement already satisfied: grpcio<2.0,>=1.24.3 in /usr/local/lib/python3.10/dist-packages (from tensorflow) (1.67.1)\n",
            "Requirement already satisfied: tensorboard<2.18,>=2.17 in /usr/local/lib/python3.10/dist-packages (from tensorflow) (2.17.1)\n",
            "Requirement already satisfied: keras>=3.2.0 in /usr/local/lib/python3.10/dist-packages (from tensorflow) (3.5.0)\n",
            "Requirement already satisfied: tensorflow-io-gcs-filesystem>=0.23.1 in /usr/local/lib/python3.10/dist-packages (from tensorflow) (0.37.1)\n",
            "Requirement already satisfied: numpy<2.0.0,>=1.23.5 in /usr/local/lib/python3.10/dist-packages (from tensorflow) (1.26.4)\n",
            "Requirement already satisfied: wheel<1.0,>=0.23.0 in /usr/local/lib/python3.10/dist-packages (from astunparse>=1.6.0->tensorflow) (0.45.0)\n",
            "Requirement already satisfied: rich in /usr/local/lib/python3.10/dist-packages (from keras>=3.2.0->tensorflow) (13.9.4)\n",
            "Requirement already satisfied: namex in /usr/local/lib/python3.10/dist-packages (from keras>=3.2.0->tensorflow) (0.0.8)\n",
            "Requirement already satisfied: optree in /usr/local/lib/python3.10/dist-packages (from keras>=3.2.0->tensorflow) (0.13.1)\n",
            "Requirement already satisfied: charset-normalizer<4,>=2 in /usr/local/lib/python3.10/dist-packages (from requests<3,>=2.21.0->tensorflow) (3.4.0)\n",
            "Requirement already satisfied: idna<4,>=2.5 in /usr/local/lib/python3.10/dist-packages (from requests<3,>=2.21.0->tensorflow) (3.10)\n",
            "Requirement already satisfied: urllib3<3,>=1.21.1 in /usr/local/lib/python3.10/dist-packages (from requests<3,>=2.21.0->tensorflow) (2.2.3)\n",
            "Requirement already satisfied: certifi>=2017.4.17 in /usr/local/lib/python3.10/dist-packages (from requests<3,>=2.21.0->tensorflow) (2024.8.30)\n",
            "Requirement already satisfied: markdown>=2.6.8 in /usr/local/lib/python3.10/dist-packages (from tensorboard<2.18,>=2.17->tensorflow) (3.7)\n",
            "Requirement already satisfied: tensorboard-data-server<0.8.0,>=0.7.0 in /usr/local/lib/python3.10/dist-packages (from tensorboard<2.18,>=2.17->tensorflow) (0.7.2)\n",
            "Requirement already satisfied: werkzeug>=1.0.1 in /usr/local/lib/python3.10/dist-packages (from tensorboard<2.18,>=2.17->tensorflow) (3.1.3)\n",
            "Requirement already satisfied: MarkupSafe>=2.1.1 in /usr/local/lib/python3.10/dist-packages (from werkzeug>=1.0.1->tensorboard<2.18,>=2.17->tensorflow) (3.0.2)\n",
            "Requirement already satisfied: markdown-it-py>=2.2.0 in /usr/local/lib/python3.10/dist-packages (from rich->keras>=3.2.0->tensorflow) (3.0.0)\n",
            "Requirement already satisfied: pygments<3.0.0,>=2.13.0 in /usr/local/lib/python3.10/dist-packages (from rich->keras>=3.2.0->tensorflow) (2.18.0)\n",
            "Requirement already satisfied: mdurl~=0.1 in /usr/local/lib/python3.10/dist-packages (from markdown-it-py>=2.2.0->rich->keras>=3.2.0->tensorflow) (0.1.2)\n"
          ]
        }
      ]
    },
    {
      "cell_type": "code",
      "execution_count": null,
      "metadata": {
        "id": "lFToQs5FK5uZ"
      },
      "outputs": [],
      "source": [
        "import os\n",
        "import platform\n",
        "import pandas as pd\n",
        "import matplotlib.pyplot as plt\n",
        "import seaborn as sns\n",
        "\n",
        "import multiprocessing\n",
        "from gensim.models import Word2Vec"
      ]
    },
    {
      "cell_type": "markdown",
      "metadata": {
        "id": "g07zJxG7H9vG"
      },
      "source": [
        "### Datos\n",
        "\n",
        "Cargando el texto de la historia de la Europa:\n",
        "https://www.kaggle.com/datasets/chungimungi/europehistorytxt?resource=download"
      ]
    },
    {
      "cell_type": "code",
      "execution_count": null,
      "metadata": {
        "id": "ticoqYD1Z3I7",
        "colab": {
          "base_uri": "https://localhost:8080/",
          "height": 278
        },
        "outputId": "55a9cdcf-f809-42ae-8d28-1cf18f883770"
      },
      "outputs": [
        {
          "output_type": "stream",
          "name": "stderr",
          "text": [
            "<ipython-input-78-241da0643894>:2: ParserWarning:\n",
            "\n",
            "Falling back to the 'python' engine because the 'c' engine does not support regex separators (separators > 1 char and different from '\\s+' are interpreted as regex); you can avoid this warning by specifying engine='python'.\n",
            "\n"
          ]
        },
        {
          "output_type": "execute_result",
          "data": {
            "text/plain": [
              "                                                   0\n",
              "0                                            PREFACE\n",
              "1  This book contains little that is original. Si...\n",
              "2  been thoroughly worked over by previous histor...\n",
              "3  rarely required. The book's originality, such ...\n",
              "4  rearrangement, and presentation of the content..."
            ],
            "text/html": [
              "\n",
              "  <div id=\"df-0f70f53d-6a85-4cf2-a3b0-cfa417fabd23\" class=\"colab-df-container\">\n",
              "    <div>\n",
              "<style scoped>\n",
              "    .dataframe tbody tr th:only-of-type {\n",
              "        vertical-align: middle;\n",
              "    }\n",
              "\n",
              "    .dataframe tbody tr th {\n",
              "        vertical-align: top;\n",
              "    }\n",
              "\n",
              "    .dataframe thead th {\n",
              "        text-align: right;\n",
              "    }\n",
              "</style>\n",
              "<table border=\"1\" class=\"dataframe\">\n",
              "  <thead>\n",
              "    <tr style=\"text-align: right;\">\n",
              "      <th></th>\n",
              "      <th>0</th>\n",
              "    </tr>\n",
              "  </thead>\n",
              "  <tbody>\n",
              "    <tr>\n",
              "      <th>0</th>\n",
              "      <td>PREFACE</td>\n",
              "    </tr>\n",
              "    <tr>\n",
              "      <th>1</th>\n",
              "      <td>This book contains little that is original. Si...</td>\n",
              "    </tr>\n",
              "    <tr>\n",
              "      <th>2</th>\n",
              "      <td>been thoroughly worked over by previous histor...</td>\n",
              "    </tr>\n",
              "    <tr>\n",
              "      <th>3</th>\n",
              "      <td>rarely required. The book's originality, such ...</td>\n",
              "    </tr>\n",
              "    <tr>\n",
              "      <th>4</th>\n",
              "      <td>rearrangement, and presentation of the content...</td>\n",
              "    </tr>\n",
              "  </tbody>\n",
              "</table>\n",
              "</div>\n",
              "    <div class=\"colab-df-buttons\">\n",
              "\n",
              "  <div class=\"colab-df-container\">\n",
              "    <button class=\"colab-df-convert\" onclick=\"convertToInteractive('df-0f70f53d-6a85-4cf2-a3b0-cfa417fabd23')\"\n",
              "            title=\"Convert this dataframe to an interactive table.\"\n",
              "            style=\"display:none;\">\n",
              "\n",
              "  <svg xmlns=\"http://www.w3.org/2000/svg\" height=\"24px\" viewBox=\"0 -960 960 960\">\n",
              "    <path d=\"M120-120v-720h720v720H120Zm60-500h600v-160H180v160Zm220 220h160v-160H400v160Zm0 220h160v-160H400v160ZM180-400h160v-160H180v160Zm440 0h160v-160H620v160ZM180-180h160v-160H180v160Zm440 0h160v-160H620v160Z\"/>\n",
              "  </svg>\n",
              "    </button>\n",
              "\n",
              "  <style>\n",
              "    .colab-df-container {\n",
              "      display:flex;\n",
              "      gap: 12px;\n",
              "    }\n",
              "\n",
              "    .colab-df-convert {\n",
              "      background-color: #E8F0FE;\n",
              "      border: none;\n",
              "      border-radius: 50%;\n",
              "      cursor: pointer;\n",
              "      display: none;\n",
              "      fill: #1967D2;\n",
              "      height: 32px;\n",
              "      padding: 0 0 0 0;\n",
              "      width: 32px;\n",
              "    }\n",
              "\n",
              "    .colab-df-convert:hover {\n",
              "      background-color: #E2EBFA;\n",
              "      box-shadow: 0px 1px 2px rgba(60, 64, 67, 0.3), 0px 1px 3px 1px rgba(60, 64, 67, 0.15);\n",
              "      fill: #174EA6;\n",
              "    }\n",
              "\n",
              "    .colab-df-buttons div {\n",
              "      margin-bottom: 4px;\n",
              "    }\n",
              "\n",
              "    [theme=dark] .colab-df-convert {\n",
              "      background-color: #3B4455;\n",
              "      fill: #D2E3FC;\n",
              "    }\n",
              "\n",
              "    [theme=dark] .colab-df-convert:hover {\n",
              "      background-color: #434B5C;\n",
              "      box-shadow: 0px 1px 3px 1px rgba(0, 0, 0, 0.15);\n",
              "      filter: drop-shadow(0px 1px 2px rgba(0, 0, 0, 0.3));\n",
              "      fill: #FFFFFF;\n",
              "    }\n",
              "  </style>\n",
              "\n",
              "    <script>\n",
              "      const buttonEl =\n",
              "        document.querySelector('#df-0f70f53d-6a85-4cf2-a3b0-cfa417fabd23 button.colab-df-convert');\n",
              "      buttonEl.style.display =\n",
              "        google.colab.kernel.accessAllowed ? 'block' : 'none';\n",
              "\n",
              "      async function convertToInteractive(key) {\n",
              "        const element = document.querySelector('#df-0f70f53d-6a85-4cf2-a3b0-cfa417fabd23');\n",
              "        const dataTable =\n",
              "          await google.colab.kernel.invokeFunction('convertToInteractive',\n",
              "                                                    [key], {});\n",
              "        if (!dataTable) return;\n",
              "\n",
              "        const docLinkHtml = 'Like what you see? Visit the ' +\n",
              "          '<a target=\"_blank\" href=https://colab.research.google.com/notebooks/data_table.ipynb>data table notebook</a>'\n",
              "          + ' to learn more about interactive tables.';\n",
              "        element.innerHTML = '';\n",
              "        dataTable['output_type'] = 'display_data';\n",
              "        await google.colab.output.renderOutput(dataTable, element);\n",
              "        const docLink = document.createElement('div');\n",
              "        docLink.innerHTML = docLinkHtml;\n",
              "        element.appendChild(docLink);\n",
              "      }\n",
              "    </script>\n",
              "  </div>\n",
              "\n",
              "\n",
              "<div id=\"df-2122a66c-fefc-4f03-9979-7137a4d3b2e8\">\n",
              "  <button class=\"colab-df-quickchart\" onclick=\"quickchart('df-2122a66c-fefc-4f03-9979-7137a4d3b2e8')\"\n",
              "            title=\"Suggest charts\"\n",
              "            style=\"display:none;\">\n",
              "\n",
              "<svg xmlns=\"http://www.w3.org/2000/svg\" height=\"24px\"viewBox=\"0 0 24 24\"\n",
              "     width=\"24px\">\n",
              "    <g>\n",
              "        <path d=\"M19 3H5c-1.1 0-2 .9-2 2v14c0 1.1.9 2 2 2h14c1.1 0 2-.9 2-2V5c0-1.1-.9-2-2-2zM9 17H7v-7h2v7zm4 0h-2V7h2v10zm4 0h-2v-4h2v4z\"/>\n",
              "    </g>\n",
              "</svg>\n",
              "  </button>\n",
              "\n",
              "<style>\n",
              "  .colab-df-quickchart {\n",
              "      --bg-color: #E8F0FE;\n",
              "      --fill-color: #1967D2;\n",
              "      --hover-bg-color: #E2EBFA;\n",
              "      --hover-fill-color: #174EA6;\n",
              "      --disabled-fill-color: #AAA;\n",
              "      --disabled-bg-color: #DDD;\n",
              "  }\n",
              "\n",
              "  [theme=dark] .colab-df-quickchart {\n",
              "      --bg-color: #3B4455;\n",
              "      --fill-color: #D2E3FC;\n",
              "      --hover-bg-color: #434B5C;\n",
              "      --hover-fill-color: #FFFFFF;\n",
              "      --disabled-bg-color: #3B4455;\n",
              "      --disabled-fill-color: #666;\n",
              "  }\n",
              "\n",
              "  .colab-df-quickchart {\n",
              "    background-color: var(--bg-color);\n",
              "    border: none;\n",
              "    border-radius: 50%;\n",
              "    cursor: pointer;\n",
              "    display: none;\n",
              "    fill: var(--fill-color);\n",
              "    height: 32px;\n",
              "    padding: 0;\n",
              "    width: 32px;\n",
              "  }\n",
              "\n",
              "  .colab-df-quickchart:hover {\n",
              "    background-color: var(--hover-bg-color);\n",
              "    box-shadow: 0 1px 2px rgba(60, 64, 67, 0.3), 0 1px 3px 1px rgba(60, 64, 67, 0.15);\n",
              "    fill: var(--button-hover-fill-color);\n",
              "  }\n",
              "\n",
              "  .colab-df-quickchart-complete:disabled,\n",
              "  .colab-df-quickchart-complete:disabled:hover {\n",
              "    background-color: var(--disabled-bg-color);\n",
              "    fill: var(--disabled-fill-color);\n",
              "    box-shadow: none;\n",
              "  }\n",
              "\n",
              "  .colab-df-spinner {\n",
              "    border: 2px solid var(--fill-color);\n",
              "    border-color: transparent;\n",
              "    border-bottom-color: var(--fill-color);\n",
              "    animation:\n",
              "      spin 1s steps(1) infinite;\n",
              "  }\n",
              "\n",
              "  @keyframes spin {\n",
              "    0% {\n",
              "      border-color: transparent;\n",
              "      border-bottom-color: var(--fill-color);\n",
              "      border-left-color: var(--fill-color);\n",
              "    }\n",
              "    20% {\n",
              "      border-color: transparent;\n",
              "      border-left-color: var(--fill-color);\n",
              "      border-top-color: var(--fill-color);\n",
              "    }\n",
              "    30% {\n",
              "      border-color: transparent;\n",
              "      border-left-color: var(--fill-color);\n",
              "      border-top-color: var(--fill-color);\n",
              "      border-right-color: var(--fill-color);\n",
              "    }\n",
              "    40% {\n",
              "      border-color: transparent;\n",
              "      border-right-color: var(--fill-color);\n",
              "      border-top-color: var(--fill-color);\n",
              "    }\n",
              "    60% {\n",
              "      border-color: transparent;\n",
              "      border-right-color: var(--fill-color);\n",
              "    }\n",
              "    80% {\n",
              "      border-color: transparent;\n",
              "      border-right-color: var(--fill-color);\n",
              "      border-bottom-color: var(--fill-color);\n",
              "    }\n",
              "    90% {\n",
              "      border-color: transparent;\n",
              "      border-bottom-color: var(--fill-color);\n",
              "    }\n",
              "  }\n",
              "</style>\n",
              "\n",
              "  <script>\n",
              "    async function quickchart(key) {\n",
              "      const quickchartButtonEl =\n",
              "        document.querySelector('#' + key + ' button');\n",
              "      quickchartButtonEl.disabled = true;  // To prevent multiple clicks.\n",
              "      quickchartButtonEl.classList.add('colab-df-spinner');\n",
              "      try {\n",
              "        const charts = await google.colab.kernel.invokeFunction(\n",
              "            'suggestCharts', [key], {});\n",
              "      } catch (error) {\n",
              "        console.error('Error during call to suggestCharts:', error);\n",
              "      }\n",
              "      quickchartButtonEl.classList.remove('colab-df-spinner');\n",
              "      quickchartButtonEl.classList.add('colab-df-quickchart-complete');\n",
              "    }\n",
              "    (() => {\n",
              "      let quickchartButtonEl =\n",
              "        document.querySelector('#df-2122a66c-fefc-4f03-9979-7137a4d3b2e8 button');\n",
              "      quickchartButtonEl.style.display =\n",
              "        google.colab.kernel.accessAllowed ? 'block' : 'none';\n",
              "    })();\n",
              "  </script>\n",
              "</div>\n",
              "\n",
              "    </div>\n",
              "  </div>\n"
            ],
            "application/vnd.google.colaboratory.intrinsic+json": {
              "type": "dataframe",
              "variable_name": "df",
              "summary": "{\n  \"name\": \"df\",\n  \"rows\": 48008,\n  \"fields\": [\n    {\n      \"column\": 0,\n      \"properties\": {\n        \"dtype\": \"string\",\n        \"num_unique_values\": 47871,\n        \"samples\": [\n          \"there was no hunting-'Rien' (nothing).\",\n          \"foreign mercenaries, commanded by the domestikos, and a system of themes or\",\n          \"about their good\"\n        ],\n        \"semantic_type\": \"\",\n        \"description\": \"\"\n      }\n    }\n  ]\n}"
            }
          },
          "metadata": {},
          "execution_count": 78
        }
      ],
      "source": [
        "# Armar el dataset utilizando salto de línea para separar las oraciones/docs\n",
        "df = pd.read_csv('desafio_2_europe_history.txt', sep='/n', header=None)\n",
        "df.head()"
      ]
    },
    {
      "cell_type": "code",
      "execution_count": null,
      "metadata": {
        "id": "LEpKubK9XzXN",
        "colab": {
          "base_uri": "https://localhost:8080/"
        },
        "outputId": "d86d0e1a-c820-46b0-878a-56e26382c23a"
      },
      "outputs": [
        {
          "output_type": "stream",
          "name": "stdout",
          "text": [
            "Cantidad de documentos: 48008\n"
          ]
        }
      ],
      "source": [
        "print(\"Cantidad de documentos:\", df.shape[0])"
      ]
    },
    {
      "cell_type": "markdown",
      "metadata": {
        "id": "ab94qaFlrA1G"
      },
      "source": [
        "### 1 - Preprocesamiento"
      ]
    },
    {
      "cell_type": "code",
      "execution_count": null,
      "metadata": {
        "id": "rIsmMWmjrDHd"
      },
      "outputs": [],
      "source": [
        "from tensorflow.keras.preprocessing.text import text_to_word_sequence\n",
        "\n",
        "sentence_tokens = []\n",
        "# Recorrer todas las filas y transformar las oraciones\n",
        "# en una secuencia de palabras (esto podría realizarse con NLTK o spaCy también)\n",
        "for _, row in df[:None].iterrows():\n",
        "    sentence_tokens.append(text_to_word_sequence(row[0]))"
      ]
    },
    {
      "cell_type": "code",
      "execution_count": null,
      "metadata": {
        "id": "CHepi_DGrbhq",
        "colab": {
          "base_uri": "https://localhost:8080/"
        },
        "outputId": "8575779b-663d-44c7-cfca-b53efc51510b"
      },
      "outputs": [
        {
          "output_type": "execute_result",
          "data": {
            "text/plain": [
              "[['preface'],\n",
              " ['this',\n",
              "  'book',\n",
              "  'contains',\n",
              "  'little',\n",
              "  'that',\n",
              "  'is',\n",
              "  'original',\n",
              "  'since',\n",
              "  'most',\n",
              "  'aspects',\n",
              "  'of',\n",
              "  'the',\n",
              "  'subject',\n",
              "  'have']]"
            ]
          },
          "metadata": {},
          "execution_count": 81
        }
      ],
      "source": [
        "# Demos un vistazo\n",
        "sentence_tokens[:2]"
      ]
    },
    {
      "cell_type": "markdown",
      "source": [
        "# 1 -  Crear sus propios vectores con Gensim basado en lo visto en clase con otro dataset."
      ],
      "metadata": {
        "id": "8Y4W7eJdTW-R"
      }
    },
    {
      "cell_type": "markdown",
      "metadata": {
        "id": "BaXV6nlHr5Aa"
      },
      "source": [
        "### Creando los vectores (word2vec)"
      ]
    },
    {
      "cell_type": "code",
      "execution_count": null,
      "metadata": {
        "id": "OSb0v7h8r7hK"
      },
      "outputs": [],
      "source": [
        "from gensim.models.callbacks import CallbackAny2Vec\n",
        "# Durante el entrenamiento gensim por defecto no informa el \"loss\" en cada época\n",
        "# Sobrecargamos el callback para poder tener esta información\n",
        "class callback(CallbackAny2Vec):\n",
        "    \"\"\"\n",
        "    Callback to print loss after each epoch\n",
        "    \"\"\"\n",
        "    def __init__(self):\n",
        "        self.epoch = 0\n",
        "\n",
        "    def on_epoch_end(self, model):\n",
        "        loss = model.get_latest_training_loss()\n",
        "        if self.epoch == 0:\n",
        "            print('Loss after epoch {}: {}'.format(self.epoch, loss))\n",
        "        else:\n",
        "            print('Loss after epoch {}: {}'.format(self.epoch, loss- self.loss_previous_step))\n",
        "        self.epoch += 1\n",
        "        self.loss_previous_step = loss"
      ]
    },
    {
      "cell_type": "code",
      "execution_count": null,
      "metadata": {
        "id": "i0wnDdv9sJ47"
      },
      "outputs": [],
      "source": [
        "w2v_model = Word2Vec(min_count=5,    # frecuencia mínima de palabra para incluirla en el vocabulario\n",
        "                     window=10,       # cant de palabras antes y desp de la predicha\n",
        "                     vector_size=250,       # dimensionalidad de los vectores - BAJAMOS\n",
        "                     negative=20,    # cantidad de negative samples... 0 es no se usa\n",
        "                     workers=multiprocessing.cpu_count(),      # si tienen más cores pueden cambiar este valor\n",
        "                     sg=0)           # modelo 0:CBOW  1:skipgram"
      ]
    },
    {
      "cell_type": "code",
      "execution_count": null,
      "metadata": {
        "id": "5lTt8wErsf17"
      },
      "outputs": [],
      "source": [
        "# Obtener el vocabulario con los tokens\n",
        "w2v_model.build_vocab(sentence_tokens)"
      ]
    },
    {
      "cell_type": "code",
      "execution_count": null,
      "metadata": {
        "id": "TNc9qt4os5AT",
        "colab": {
          "base_uri": "https://localhost:8080/"
        },
        "outputId": "bf92f5c2-5fe3-4f80-e578-1b412efa344d"
      },
      "outputs": [
        {
          "output_type": "stream",
          "name": "stdout",
          "text": [
            "Cantidad de docs en el corpus: 48008\n"
          ]
        }
      ],
      "source": [
        "# Cantidad de filas/docs encontradas en el corpus\n",
        "print(\"Cantidad de docs en el corpus:\", w2v_model.corpus_count)"
      ]
    },
    {
      "cell_type": "code",
      "execution_count": null,
      "metadata": {
        "id": "idw9cHF3tSMl",
        "colab": {
          "base_uri": "https://localhost:8080/"
        },
        "outputId": "1f1f65ea-b8cc-43ff-b108-1e22facfb0bd"
      },
      "outputs": [
        {
          "output_type": "stream",
          "name": "stdout",
          "text": [
            "Cantidad de words distintas en el corpus: 10341\n"
          ]
        }
      ],
      "source": [
        "# Cantidad de words encontradas en el corpus\n",
        "print(\"Cantidad de words distintas en el corpus:\", len(w2v_model.wv.index_to_key))"
      ]
    },
    {
      "cell_type": "markdown",
      "metadata": {
        "id": "fC9mZ8DPk-UC"
      },
      "source": [
        "### Entrenando embeddings"
      ]
    },
    {
      "cell_type": "code",
      "execution_count": null,
      "metadata": {
        "id": "QSp-x0PAsq56",
        "colab": {
          "base_uri": "https://localhost:8080/"
        },
        "outputId": "9191df95-3f39-49f8-d01c-7bea534d20f8"
      },
      "outputs": [
        {
          "output_type": "stream",
          "name": "stderr",
          "text": [
            "WARNING:gensim.models.word2vec:Effective 'alpha' higher than previous training cycles\n"
          ]
        },
        {
          "output_type": "stream",
          "name": "stdout",
          "text": [
            "Loss after epoch 0: 414404.5625\n",
            "Loss after epoch 1: 414554.375\n",
            "Loss after epoch 2: 404567.5625\n",
            "Loss after epoch 3: 394123.375\n",
            "Loss after epoch 4: 389854.375\n",
            "Loss after epoch 5: 376756.25\n",
            "Loss after epoch 6: 360389.75\n",
            "Loss after epoch 7: 369354.0\n",
            "Loss after epoch 8: 367720.75\n",
            "Loss after epoch 9: 367815.25\n",
            "Loss after epoch 10: 360333.25\n",
            "Loss after epoch 11: 343480.0\n",
            "Loss after epoch 12: 342430.0\n",
            "Loss after epoch 13: 329569.5\n",
            "Loss after epoch 14: 338179.0\n",
            "Loss after epoch 15: 334310.0\n",
            "Loss after epoch 16: 337104.5\n",
            "Loss after epoch 17: 336831.5\n",
            "Loss after epoch 18: 335808.5\n",
            "Loss after epoch 19: 333423.0\n",
            "Loss after epoch 20: 335804.0\n",
            "Loss after epoch 21: 334270.0\n",
            "Loss after epoch 22: 334376.0\n",
            "Loss after epoch 23: 323709.5\n",
            "Loss after epoch 24: 324130.0\n",
            "Loss after epoch 25: 319314.0\n",
            "Loss after epoch 26: 319854.0\n",
            "Loss after epoch 27: 320083.0\n",
            "Loss after epoch 28: 316636.0\n",
            "Loss after epoch 29: 318489.0\n",
            "Loss after epoch 30: 330406.0\n",
            "Loss after epoch 31: 318683.0\n",
            "Loss after epoch 32: 317077.0\n",
            "Loss after epoch 33: 315722.0\n",
            "Loss after epoch 34: 316110.0\n",
            "Loss after epoch 35: 331184.0\n",
            "Loss after epoch 36: 333209.0\n",
            "Loss after epoch 37: 318401.0\n",
            "Loss after epoch 38: 319581.0\n",
            "Loss after epoch 39: 315469.0\n",
            "Loss after epoch 40: 314381.0\n",
            "Loss after epoch 41: 318083.0\n",
            "Loss after epoch 42: 306913.0\n",
            "Loss after epoch 43: 315400.0\n",
            "Loss after epoch 44: 311518.0\n",
            "Loss after epoch 45: 312747.0\n",
            "Loss after epoch 46: 315068.0\n",
            "Loss after epoch 47: 303879.0\n",
            "Loss after epoch 48: 315569.0\n",
            "Loss after epoch 49: 306337.0\n",
            "Loss after epoch 50: 269266.0\n",
            "Loss after epoch 51: 267126.0\n",
            "Loss after epoch 52: 269798.0\n",
            "Loss after epoch 53: 261060.0\n",
            "Loss after epoch 54: 267094.0\n",
            "Loss after epoch 55: 268568.0\n",
            "Loss after epoch 56: 269322.0\n",
            "Loss after epoch 57: 267530.0\n",
            "Loss after epoch 58: 258776.0\n",
            "Loss after epoch 59: 259318.0\n",
            "Loss after epoch 60: 267476.0\n",
            "Loss after epoch 61: 266684.0\n",
            "Loss after epoch 62: 267412.0\n",
            "Loss after epoch 63: 268182.0\n",
            "Loss after epoch 64: 267336.0\n",
            "Loss after epoch 65: 263122.0\n",
            "Loss after epoch 66: 266546.0\n",
            "Loss after epoch 67: 265672.0\n",
            "Loss after epoch 68: 266448.0\n",
            "Loss after epoch 69: 265034.0\n",
            "Loss after epoch 70: 244794.0\n",
            "Loss after epoch 71: 264728.0\n",
            "Loss after epoch 72: 263762.0\n",
            "Loss after epoch 73: 265674.0\n",
            "Loss after epoch 74: 263320.0\n",
            "Loss after epoch 75: 265926.0\n",
            "Loss after epoch 76: 262112.0\n",
            "Loss after epoch 77: 264870.0\n",
            "Loss after epoch 78: 261950.0\n",
            "Loss after epoch 79: 260314.0\n",
            "Loss after epoch 80: 264254.0\n",
            "Loss after epoch 81: 264738.0\n",
            "Loss after epoch 82: 259882.0\n",
            "Loss after epoch 83: 260572.0\n",
            "Loss after epoch 84: 259224.0\n",
            "Loss after epoch 85: 259780.0\n",
            "Loss after epoch 86: 259726.0\n",
            "Loss after epoch 87: 269382.0\n",
            "Loss after epoch 88: 259476.0\n",
            "Loss after epoch 89: 263888.0\n",
            "Loss after epoch 90: 262558.0\n",
            "Loss after epoch 91: 259682.0\n",
            "Loss after epoch 92: 259624.0\n",
            "Loss after epoch 93: 260670.0\n",
            "Loss after epoch 94: 255974.0\n",
            "Loss after epoch 95: 251212.0\n",
            "Loss after epoch 96: 257922.0\n",
            "Loss after epoch 97: 257088.0\n",
            "Loss after epoch 98: 248594.0\n",
            "Loss after epoch 99: 251052.0\n",
            "Loss after epoch 100: 257562.0\n",
            "Loss after epoch 101: 255078.0\n",
            "Loss after epoch 102: 256932.0\n",
            "Loss after epoch 103: 258402.0\n",
            "Loss after epoch 104: 237908.0\n",
            "Loss after epoch 105: 248762.0\n",
            "Loss after epoch 106: 254724.0\n",
            "Loss after epoch 107: 256228.0\n",
            "Loss after epoch 108: 255744.0\n",
            "Loss after epoch 109: 254406.0\n",
            "Loss after epoch 110: 234274.0\n",
            "Loss after epoch 111: 253822.0\n",
            "Loss after epoch 112: 251374.0\n",
            "Loss after epoch 113: 252166.0\n",
            "Loss after epoch 114: 215812.0\n",
            "Loss after epoch 115: 201308.0\n",
            "Loss after epoch 116: 200400.0\n",
            "Loss after epoch 117: 198368.0\n",
            "Loss after epoch 118: 201828.0\n",
            "Loss after epoch 119: 201276.0\n",
            "Loss after epoch 120: 199316.0\n",
            "Loss after epoch 121: 193332.0\n",
            "Loss after epoch 122: 199768.0\n",
            "Loss after epoch 123: 199184.0\n",
            "Loss after epoch 124: 197804.0\n",
            "Loss after epoch 125: 193796.0\n",
            "Loss after epoch 126: 198008.0\n",
            "Loss after epoch 127: 192204.0\n",
            "Loss after epoch 128: 198588.0\n",
            "Loss after epoch 129: 198152.0\n",
            "Loss after epoch 130: 198348.0\n",
            "Loss after epoch 131: 197512.0\n",
            "Loss after epoch 132: 196112.0\n",
            "Loss after epoch 133: 196380.0\n",
            "Loss after epoch 134: 196156.0\n",
            "Loss after epoch 135: 194272.0\n",
            "Loss after epoch 136: 193704.0\n",
            "Loss after epoch 137: 192672.0\n",
            "Loss after epoch 138: 200564.0\n",
            "Loss after epoch 139: 192028.0\n",
            "Loss after epoch 140: 191788.0\n",
            "Loss after epoch 141: 190308.0\n",
            "Loss after epoch 142: 191060.0\n",
            "Loss after epoch 143: 190152.0\n",
            "Loss after epoch 144: 183592.0\n",
            "Loss after epoch 145: 190484.0\n",
            "Loss after epoch 146: 188072.0\n",
            "Loss after epoch 147: 188028.0\n",
            "Loss after epoch 148: 189276.0\n",
            "Loss after epoch 149: 179928.0\n",
            "Loss after epoch 150: 183188.0\n",
            "Loss after epoch 151: 187384.0\n",
            "Loss after epoch 152: 187068.0\n",
            "Loss after epoch 153: 184688.0\n",
            "Loss after epoch 154: 186140.0\n",
            "Loss after epoch 155: 180492.0\n",
            "Loss after epoch 156: 182392.0\n",
            "Loss after epoch 157: 184756.0\n",
            "Loss after epoch 158: 183792.0\n",
            "Loss after epoch 159: 183836.0\n",
            "Loss after epoch 160: 183016.0\n",
            "Loss after epoch 161: 175440.0\n",
            "Loss after epoch 162: 181924.0\n",
            "Loss after epoch 163: 181392.0\n",
            "Loss after epoch 164: 177716.0\n",
            "Loss after epoch 165: 178564.0\n",
            "Loss after epoch 166: 179080.0\n",
            "Loss after epoch 167: 171612.0\n",
            "Loss after epoch 168: 175656.0\n",
            "Loss after epoch 169: 175580.0\n",
            "Loss after epoch 170: 175592.0\n",
            "Loss after epoch 171: 175480.0\n",
            "Loss after epoch 172: 181128.0\n",
            "Loss after epoch 173: 174240.0\n",
            "Loss after epoch 174: 173900.0\n",
            "Loss after epoch 175: 173092.0\n",
            "Loss after epoch 176: 172588.0\n",
            "Loss after epoch 177: 173872.0\n",
            "Loss after epoch 178: 170000.0\n",
            "Loss after epoch 179: 172716.0\n",
            "Loss after epoch 180: 171248.0\n",
            "Loss after epoch 181: 169684.0\n",
            "Loss after epoch 182: 167892.0\n",
            "Loss after epoch 183: 160136.0\n",
            "Loss after epoch 184: 167892.0\n",
            "Loss after epoch 185: 166716.0\n",
            "Loss after epoch 186: 164212.0\n",
            "Loss after epoch 187: 164712.0\n",
            "Loss after epoch 188: 164816.0\n",
            "Loss after epoch 189: 168988.0\n",
            "Loss after epoch 190: 162508.0\n",
            "Loss after epoch 191: 156224.0\n",
            "Loss after epoch 192: 168604.0\n",
            "Loss after epoch 193: 161976.0\n",
            "Loss after epoch 194: 162428.0\n",
            "Loss after epoch 195: 159872.0\n",
            "Loss after epoch 196: 160936.0\n",
            "Loss after epoch 197: 158128.0\n",
            "Loss after epoch 198: 157612.0\n",
            "Loss after epoch 199: 156360.0\n",
            "Loss after epoch 200: 157232.0\n",
            "Loss after epoch 201: 156184.0\n",
            "Loss after epoch 202: 154632.0\n",
            "Loss after epoch 203: 154640.0\n",
            "Loss after epoch 204: 153440.0\n",
            "Loss after epoch 205: 149032.0\n",
            "Loss after epoch 206: 153188.0\n",
            "Loss after epoch 207: 150164.0\n",
            "Loss after epoch 208: 152264.0\n",
            "Loss after epoch 209: 149252.0\n",
            "Loss after epoch 210: 151680.0\n",
            "Loss after epoch 211: 150788.0\n",
            "Loss after epoch 212: 148204.0\n",
            "Loss after epoch 213: 147652.0\n",
            "Loss after epoch 214: 146276.0\n",
            "Loss after epoch 215: 146464.0\n",
            "Loss after epoch 216: 146552.0\n",
            "Loss after epoch 217: 145808.0\n",
            "Loss after epoch 218: 143940.0\n",
            "Loss after epoch 219: 144496.0\n",
            "Loss after epoch 220: 143228.0\n",
            "Loss after epoch 221: 131780.0\n",
            "Loss after epoch 222: 141220.0\n",
            "Loss after epoch 223: 140344.0\n",
            "Loss after epoch 224: 139032.0\n",
            "Loss after epoch 225: 139280.0\n",
            "Loss after epoch 226: 132720.0\n",
            "Loss after epoch 227: 137812.0\n",
            "Loss after epoch 228: 137076.0\n",
            "Loss after epoch 229: 131128.0\n",
            "Loss after epoch 230: 136828.0\n",
            "Loss after epoch 231: 136228.0\n",
            "Loss after epoch 232: 140700.0\n",
            "Loss after epoch 233: 135144.0\n",
            "Loss after epoch 234: 133932.0\n",
            "Loss after epoch 235: 133584.0\n",
            "Loss after epoch 236: 131456.0\n",
            "Loss after epoch 237: 130564.0\n",
            "Loss after epoch 238: 132352.0\n",
            "Loss after epoch 239: 132348.0\n",
            "Loss after epoch 240: 131104.0\n",
            "Loss after epoch 241: 130128.0\n",
            "Loss after epoch 242: 128220.0\n",
            "Loss after epoch 243: 134512.0\n",
            "Loss after epoch 244: 129620.0\n",
            "Loss after epoch 245: 128320.0\n",
            "Loss after epoch 246: 126060.0\n",
            "Loss after epoch 247: 125596.0\n",
            "Loss after epoch 248: 120660.0\n",
            "Loss after epoch 249: 124996.0\n",
            "Loss after epoch 250: 124152.0\n",
            "Loss after epoch 251: 124240.0\n",
            "Loss after epoch 252: 123308.0\n",
            "Loss after epoch 253: 122088.0\n",
            "Loss after epoch 254: 121920.0\n",
            "Loss after epoch 255: 120888.0\n",
            "Loss after epoch 256: 121120.0\n",
            "Loss after epoch 257: 120012.0\n",
            "Loss after epoch 258: 120508.0\n",
            "Loss after epoch 259: 115304.0\n",
            "Loss after epoch 260: 118240.0\n",
            "Loss after epoch 261: 120432.0\n",
            "Loss after epoch 262: 117488.0\n",
            "Loss after epoch 263: 118712.0\n",
            "Loss after epoch 264: 113280.0\n",
            "Loss after epoch 265: 115796.0\n",
            "Loss after epoch 266: 115016.0\n",
            "Loss after epoch 267: 115628.0\n",
            "Loss after epoch 268: 114912.0\n",
            "Loss after epoch 269: 110532.0\n",
            "Loss after epoch 270: 113672.0\n",
            "Loss after epoch 271: 113996.0\n",
            "Loss after epoch 272: 112952.0\n",
            "Loss after epoch 273: 113016.0\n",
            "Loss after epoch 274: 106236.0\n",
            "Loss after epoch 275: 111512.0\n",
            "Loss after epoch 276: 111244.0\n",
            "Loss after epoch 277: 110656.0\n",
            "Loss after epoch 278: 110072.0\n",
            "Loss after epoch 279: 110128.0\n",
            "Loss after epoch 280: 105824.0\n",
            "Loss after epoch 281: 109524.0\n",
            "Loss after epoch 282: 109972.0\n",
            "Loss after epoch 283: 108652.0\n",
            "Loss after epoch 284: 108544.0\n",
            "Loss after epoch 285: 103336.0\n",
            "Loss after epoch 286: 105880.0\n",
            "Loss after epoch 287: 107368.0\n",
            "Loss after epoch 288: 105872.0\n",
            "Loss after epoch 289: 107112.0\n",
            "Loss after epoch 290: 104388.0\n",
            "Loss after epoch 291: 105648.0\n",
            "Loss after epoch 292: 104912.0\n",
            "Loss after epoch 293: 104388.0\n",
            "Loss after epoch 294: 104936.0\n",
            "Loss after epoch 295: 104948.0\n",
            "Loss after epoch 296: 103648.0\n",
            "Loss after epoch 297: 102432.0\n",
            "Loss after epoch 298: 102676.0\n",
            "Loss after epoch 299: 102412.0\n"
          ]
        },
        {
          "output_type": "execute_result",
          "data": {
            "text/plain": [
              "(109238878, 165243600)"
            ]
          },
          "metadata": {},
          "execution_count": 109
        }
      ],
      "source": [
        "w2v_model.train(sentence_tokens,\n",
        "                 total_examples=w2v_model.corpus_count,\n",
        "                 epochs=300,\n",
        "                 compute_loss = True,\n",
        "                 callbacks=[callback()]\n",
        "                 )"
      ]
    },
    {
      "cell_type": "markdown",
      "source": [
        "# 2 - Probar términos de interés y explicar similitudes en el espacio de embeddings."
      ],
      "metadata": {
        "id": "sYIKBKZnTx7F"
      }
    },
    {
      "cell_type": "markdown",
      "metadata": {
        "id": "ddT9NVuNlCAe"
      },
      "source": [
        "### Ensayar"
      ]
    },
    {
      "cell_type": "code",
      "source": [
        "# prompt: explicar similitudes en el espacio de embeddings y hacer una conclusion\n",
        "\n",
        "# 2 - Probar términos de interés y explicar similitudes en el espacio de embeddings.\n",
        "# ### Ensayar\n",
        "terms = ['europe', 'war', 'politics', 'france', 'germany', 'england', 'day', 'napoleon', 'revolution']\n",
        "for term in terms:\n",
        "    if term in w2v_model.wv:\n",
        "        print(f\"\\nPalabras similares a '{term}':\")\n",
        "        for similar_word, similarity in w2v_model.wv.most_similar(term, topn=5):  # Mostrar las 5 más similares\n",
        "            print(f\"- {similar_word}: {similarity:.4f}\")\n",
        "    else:\n",
        "        print(f\"\\nLa palabra '{term}' no se encuentra en el vocabulario del modelo.\")"
      ],
      "metadata": {
        "colab": {
          "base_uri": "https://localhost:8080/"
        },
        "id": "5zyGbvYTUhvp",
        "outputId": "cda1248e-4220-452c-9c8c-6bd16f425f55"
      },
      "execution_count": null,
      "outputs": [
        {
          "output_type": "stream",
          "name": "stdout",
          "text": [
            "\n",
            "Palabras similares a 'europe':\n",
            "- europe's: 0.3372\n",
            "- sector: 0.2916\n",
            "- the: 0.2515\n",
            "- it: 0.2480\n",
            "- european: 0.2458\n",
            "\n",
            "Palabras similares a 'war':\n",
            "- wars: 0.3055\n",
            "- charles's: 0.2477\n",
            "- urgency: 0.2461\n",
            "- louvre: 0.2445\n",
            "- campaign: 0.2393\n",
            "\n",
            "Palabras similares a 'politics':\n",
            "- manifestly: 0.2374\n",
            "- deutschmark: 0.2177\n",
            "- manifestations: 0.2164\n",
            "- steam: 0.2154\n",
            "- block: 0.2135\n",
            "\n",
            "Palabras similares a 'france':\n",
            "- sweden: 0.2634\n",
            "- ireland: 0.2404\n",
            "- shortages: 0.2274\n",
            "- savoy: 0.2223\n",
            "- triple: 0.2166\n",
            "\n",
            "Palabras similares a 'germany':\n",
            "- europe: 0.2454\n",
            "- front: 0.2199\n",
            "- russia: 0.2097\n",
            "- republicanism: 0.2091\n",
            "- britain: 0.2070\n",
            "\n",
            "Palabras similares a 'england':\n",
            "- britain: 0.2832\n",
            "- toulouse: 0.2406\n",
            "- norwegians: 0.2277\n",
            "- livonia: 0.2238\n",
            "- 1643: 0.2225\n",
            "\n",
            "Palabras similares a 'day':\n",
            "- evening: 0.2795\n",
            "- occasion: 0.2758\n",
            "- week: 0.2647\n",
            "- month: 0.2505\n",
            "- night: 0.2462\n",
            "\n",
            "Palabras similares a 'napoleon':\n",
            "- temper: 0.2356\n",
            "- horse: 0.2120\n",
            "- ubiquitous: 0.2062\n",
            "- survivors: 0.2049\n",
            "- deserved: 0.2013\n",
            "\n",
            "Palabras similares a 'revolution':\n",
            "- revolution': 0.2454\n",
            "- of'the: 0.2222\n",
            "- electorate: 0.2187\n",
            "- field: 0.2183\n",
            "- icons: 0.2129\n"
          ]
        }
      ]
    },
    {
      "cell_type": "code",
      "source": [
        "# prompt: Implementar y probar tests de analogías. Ejemplo de analogía: \"Francia\" es a \"París\" lo que \"Alemania\" es a \"Berlín\"\n",
        "\n",
        "# Verificar si las palabras están en el vocabulario\n",
        "words_to_check = ['france', 'paris', 'germany', 'berlin']\n",
        "for word in words_to_check:\n",
        "    if word not in w2v_model.wv:\n",
        "        print(f\"La palabra '{word}' no está en el vocabulario. No se puede realizar la analogía.\")\n",
        "        exit()  # O manejar el error de otra manera\n",
        "\n",
        "# Calcular la analogía\n",
        "try:\n",
        "    result = w2v_model.wv.most_similar(positive=['germany', 'paris'], negative=['france'], topn=1)\n",
        "    print(f\"La analogía de 'Francia' es a 'París' lo que 'Alemania' es a: {result[0][0]} con una similitud de: {result[0][1]:.4f}\")\n",
        "except KeyError as e:\n",
        "    print(f\"Error al calcular la analogía: {e}\")\n",
        "\n",
        "# Probar otras analogías\n",
        "analogias = [\n",
        "    (\"france\", \"paris\", \"germany\", \"berlin\"),\n",
        "    (\"england\", \"london\", \"italy\", \"rome\"), # Ejemplo con otra analogía, puede que no funcione correctamente\n",
        "    (\"europe\", \"war\", \"politics\", \"peace\"), #Analogía que puede funcionar\n",
        "    (\"king\", \"man\", \"queen\", \"woman\")\n",
        "]\n",
        "\n",
        "for a, b, c, expected in analogias:\n",
        "    try:\n",
        "        result = w2v_model.wv.most_similar(positive=[c, b], negative=[a], topn=1)\n",
        "        print(f\"'{a}' es a '{b}' lo que '{c}' es a: {result[0][0]} con similitud de {result[0][1]:.4f}, se esperaba: {expected}\")\n",
        "\n",
        "    except KeyError as e:\n",
        "        print(f\"Error al calcular la analogía: {e}\")"
      ],
      "metadata": {
        "colab": {
          "base_uri": "https://localhost:8080/"
        },
        "id": "hM-7XbsIXF4e",
        "outputId": "2f433d05-da0a-49f3-cc53-0ffb7e505b5b"
      },
      "execution_count": null,
      "outputs": [
        {
          "output_type": "stream",
          "name": "stdout",
          "text": [
            "La analogía de 'Francia' es a 'París' lo que 'Alemania' es a: cologne con una similitud de: 0.2803\n",
            "'france' es a 'paris' lo que 'germany' es a: cologne con similitud de 0.2803, se esperaba: berlin\n",
            "'england' es a 'london' lo que 'italy' es a: smyrna con similitud de 0.2280, se esperaba: rome\n",
            "'europe' es a 'war' lo que 'politics' es a: travel con similitud de 0.2539, se esperaba: peace\n",
            "'king' es a 'man' lo que 'queen' es a: devotional con similitud de 0.2532, se esperaba: woman\n"
          ]
        }
      ]
    },
    {
      "cell_type": "markdown",
      "metadata": {
        "id": "_g8UVWe6lFmh"
      },
      "source": [
        "### 5 - Visualizar agrupación de vectores"
      ]
    },
    {
      "cell_type": "code",
      "execution_count": null,
      "metadata": {
        "id": "pDxEVXAivjr9"
      },
      "outputs": [],
      "source": [
        "from sklearn.decomposition import IncrementalPCA\n",
        "from sklearn.manifold import TSNE\n",
        "import numpy as np\n",
        "\n",
        "def reduce_dimensions(model, num_dimensions = 2 ):\n",
        "\n",
        "    vectors = np.asarray(model.wv.vectors)\n",
        "    labels = np.asarray(model.wv.index_to_key)\n",
        "\n",
        "    tsne = TSNE(n_components=num_dimensions, random_state=0)\n",
        "    vectors = tsne.fit_transform(vectors)\n",
        "\n",
        "    return vectors, labels"
      ]
    },
    {
      "cell_type": "code",
      "execution_count": null,
      "metadata": {
        "id": "NCCXtDpcugmd",
        "colab": {
          "base_uri": "https://localhost:8080/",
          "height": 542
        },
        "outputId": "5f24ad39-ddef-43bc-8f67-5815d576c701"
      },
      "outputs": [
        {
          "output_type": "display_data",
          "data": {
            "text/html": [
              "<html>\n",
              "<head><meta charset=\"utf-8\" /></head>\n",
              "<body>\n",
              "    <div>            <script src=\"https://cdnjs.cloudflare.com/ajax/libs/mathjax/2.7.5/MathJax.js?config=TeX-AMS-MML_SVG\"></script><script type=\"text/javascript\">if (window.MathJax && window.MathJax.Hub && window.MathJax.Hub.Config) {window.MathJax.Hub.Config({SVG: {font: \"STIX-Web\"}});}</script>                <script type=\"text/javascript\">window.PlotlyConfig = {MathJaxConfig: 'local'};</script>\n",
              "        <script charset=\"utf-8\" src=\"https://cdn.plot.ly/plotly-2.35.2.min.js\"></script>                <div id=\"92f02cae-f569-421a-9882-b8184c28a2c4\" class=\"plotly-graph-div\" style=\"height:525px; width:100%;\"></div>            <script type=\"text/javascript\">                                    window.PLOTLYENV=window.PLOTLYENV || {};                                    if (document.getElementById(\"92f02cae-f569-421a-9882-b8184c28a2c4\")) {                    Plotly.newPlot(                        \"92f02cae-f569-421a-9882-b8184c28a2c4\",                        [{\"hovertemplate\":\"x=%{x}\\u003cbr\\u003ey=%{y}\\u003cbr\\u003etext=%{text}\\u003cextra\\u003e\\u003c\\u002fextra\\u003e\",\"legendgroup\":\"\",\"marker\":{\"color\":\"#636efa\",\"symbol\":\"circle\"},\"mode\":\"markers+text\",\"name\":\"\",\"orientation\":\"v\",\"showlegend\":false,\"text\":[\"the\",\"of\",\"and\",\"in\",\"to\",\"a\",\"was\",\"by\",\"it\",\"were\",\"for\",\"on\",\"as\",\"with\",\"from\",\"that\",\"had\",\"which\",\"his\",\"at\",\"he\",\"their\",\"is\",\"or\",\"be\",\"they\",\"not\",\"but\",\"all\",\"its\",\"an\",\"one\",\"who\",\"been\",\"have\",\"into\",\"no\",\"europe\",\"when\",\"could\",\"first\",\"war\",\"most\",\"more\",\"'\",\"this\",\"after\",\"has\",\"only\",\"century\",\"european\",\"german\",\"years\",\"would\",\"are\",\"there\",\"than\",\"both\",\"between\",\"over\",\"where\",\"two\",\"great\",\"soviet\",\"many\",\"so\",\"did\",\"i\",\"time\",\"world\",\"'the\",\"new\",\"french\",\"such\",\"political\",\"them\",\"see\",\"against\",\"1\",\"under\",\"roman\",\"germany\",\"france\",\"empire\",\"later\",\"history\",\"other\",\"de\",\"three\",\"made\",\"out\",\"some\",\"western\",\"through\",\"west\",\"church\",\"east\",\"st\",\"state\",\"before\",\"up\",\"like\",\"until\",\"own\",\"long\",\"2\",\"then\",\"poland\",\"british\",\"can\",\"still\",\"russian\",\"took\",\"modern\",\"yet\",\"called\",\"general\",\"polish\",\"also\",\"power\",\"same\",\"r\",\"king\",\"military\",\"last\",\"russia\",\"army\",\"rome\",\"christian\",\"may\",\"about\",\"much\",\"national\",\"whose\",\"since\",\"life\",\"if\",\"greek\",\"even\",\"c\",\"came\",\"him\",\"what\",\"second\",\"well\",\"those\",\"social\",\"people\",\"death\",\"once\",\"will\",\"3\",\"every\",\"left\",\"her\",\"these\",\"known\",\"early\",\"italy\",\"any\",\"imperial\",\"city\",\"day\",\"found\",\"old\",\"catholic\",\"p\",\"end\",\"central\",\"000\",\"now\",\"europe's\",\"became\",\"english\",\"eastern\",\"within\",\"very\",\"religious\",\"government\",\"each\",\"held\",\"point\",\"iii\",\"countries\",\"main\",\"however\",\"set\",\"began\",\"paris\",\"never\",\"during\",\"times\",\"emperor\",\"england\",\"without\",\"said\",\"5\",\"another\",\"age\",\"ancient\"],\"x\":[1.0277505,0.93805695,0.79208606,1.0905184,1.3369278,1.2069625,1.5030155,1.0903763,1.3909057,1.5314306,1.2669003,1.2537694,1.2254794,1.2750846,1.2135618,1.4347194,1.5199695,1.3481781,1.6813576,1.28498,1.7312386,1.3104024,1.5766999,1.0195991,1.3366972,1.3609984,1.4010524,1.3115913,1.1822052,1.3610129,1.3412336,1.3492742,1.3750737,1.343564,1.5105063,1.3275812,1.36856,1.3081243,1.311908,1.5920398,1.2333804,-1.3695638,1.1784211,1.1661124,1.6197225,1.3833532,1.3144248,1.5889363,1.2327424,0.13238159,1.1847292,1.2100741,2.918522,1.5570617,1.5837386,1.4113882,1.1199412,1.3892547,1.3135062,1.246902,1.3588356,1.2109776,1.1300851,0.9917317,1.1983536,1.2857352,1.5418097,1.9400353,-0.489705,1.2678765,1.3435575,0.899549,1.6910443,0.8915134,0.96404666,0.9565706,0.88658524,1.3107631,1.2631842,1.2616713,1.2828925,1.2468746,1.9427797,1.1784344,0.85705656,1.7037352,1.1219721,1.2357377,1.1984581,1.019557,1.3475642,1.1210958,1.0644009,1.2832259,1.200054,-1.991459,1.0725906,0.34081018,1.5656809,1.3416018,0.0721837,1.2280626,1.2975279,0.863071,1.6621562,0.8671907,-0.9315223,1.1670942,1.017869,1.6175547,1.2359022,1.2762485,1.5141766,1.2914616,1.3011249,0.8735878,1.4933366,1.0046543,1.2097204,1.2851789,1.1059508,1.3946158,1.3990278,1.1017085,1.0952505,1.4052422,-0.9373875,0.64342487,1.0280303,1.1557511,1.2550795,1.256959,0.6125254,1.3545462,1.2763898,0.8222959,1.4470438,1.1885394,-0.28144965,0.38635096,1.5583844,1.8646182,1.5026743,1.2516403,0.96733177,1.3292168,1.1199051,0.24600819,0.015876764,-2.0204494,1.5602365,2.2111835,1.3137851,0.63526267,1.7552981,1.0396649,0.28358594,1.9866681,1.6216705,1.3659636,0.87574726,-0.12160845,-0.9763912,2.0206268,1.0106416,0.9859554,2.3482132,-0.21093921,1.1029727,-2.1697116,1.2262958,1.2960545,1.5110074,2.612629,1.0358721,1.2469268,1.2790967,0.6185252,0.23443608,1.1361384,1.0245138,-0.72902274,0.7647986,0.81279004,1.4885663,1.3223438,-2.0444446,1.7635694,0.7557511,1.3854754,1.3058246,0.789899,-0.16024663,2.405068,1.3543608,0.063612156,0.6832997,1.3317518,-0.065267555,1.868067],\"xaxis\":\"x\",\"y\":[-1.0796238,-1.0164567,-0.81924975,-1.2701644,-1.939802,-1.4297209,-2.2659001,-1.3288945,-1.7495766,-2.3511982,-1.7406425,-1.698141,-1.7371134,-1.7374982,-1.5475082,-2.041872,-2.30882,-1.8994839,-1.8096383,-1.6962237,-1.9802231,-1.7877591,-2.4219763,-1.4474076,-1.9674203,-1.8713326,-1.9674793,-1.8950293,-1.5796604,-1.7968823,-1.718285,-1.7260616,-1.9708968,-1.824769,-2.308425,-1.833599,-1.8865111,-1.6084054,-1.7928756,-2.549344,-1.5615368,2.1733434,-1.5368956,-1.7747964,-1.6496328,-1.7728828,-1.7872218,-2.452893,-1.5982487,-2.7108274,-1.5334895,-1.4135352,0.8250815,-2.4737492,-2.476949,-1.8906171,-1.5748633,-1.385858,-1.7972051,-1.6817399,-1.9241884,-1.6236285,-1.4784168,2.5762608,-1.5144832,-1.5540826,-2.3989685,0.7363382,-0.84089524,-1.3744844,-1.5940992,-1.5200019,-1.1594684,-1.1435046,-1.4123156,-1.4009733,3.2341502,-1.8255255,-1.2383758,-1.6548182,-1.4364578,-1.4697187,-1.0899881,-1.4148194,-1.8622763,-1.156909,-1.3076397,1.0213199,-1.6335735,-1.4097159,-1.7256126,-1.7264396,-1.4868642,-1.6880387,-1.4416056,0.59416693,-1.3003161,1.3242478,-1.311191,-1.8156432,-1.6537547,-1.6199068,-1.6826394,-1.5289739,-1.1195171,-1.4350109,-1.942434,-1.4289032,-0.97805065,-2.6071093,-1.5897431,-1.4130722,-2.315284,-1.2005503,-1.8637127,-0.90706265,-1.3305871,-1.0406651,-1.5566589,-1.1178868,-1.5496798,1.992971,2.3412485,-1.6089962,-1.1765772,-1.4680072,-1.9801664,0.7562146,-1.2188514,-2.2354667,-1.7092705,-1.4295268,-1.8105937,-1.904304,-1.7419014,-0.90047616,-2.126147,-0.63046265,-2.082772,0.8939019,-2.4026673,-2.0405114,-2.0966065,-1.2891765,-1.1538539,-1.4335859,-0.93736583,-1.6630436,1.6887814,0.17108361,-2.4616365,-0.88167685,-1.731753,-1.0110712,-1.9247261,-1.4919066,-0.8084952,-0.9557438,-0.8257628,-1.772689,-1.3561054,2.3101797,0.5064332,-1.2416887,-1.4059393,-1.1194208,1.5077658,1.2470243,-1.4260502,0.20549348,-1.5540582,-1.6326236,-2.2863677,0.24610898,-1.3642232,-1.6876154,-1.6706809,-0.8821134,-1.3832173,-1.4568958,-1.4043295,1.2397786,1.5132899,-1.4152269,-1.2418108,-1.8562151,0.0067649498,-1.2673644,0.770999,-1.9557122,-1.6840706,-1.359521,0.6250043,1.189344,-1.9458383,-1.979765,-1.8229197,-1.6343055,0.9811424,-0.8918418],\"yaxis\":\"y\",\"type\":\"scatter\"}],                        {\"template\":{\"data\":{\"histogram2dcontour\":[{\"type\":\"histogram2dcontour\",\"colorbar\":{\"outlinewidth\":0,\"ticks\":\"\"},\"colorscale\":[[0.0,\"#0d0887\"],[0.1111111111111111,\"#46039f\"],[0.2222222222222222,\"#7201a8\"],[0.3333333333333333,\"#9c179e\"],[0.4444444444444444,\"#bd3786\"],[0.5555555555555556,\"#d8576b\"],[0.6666666666666666,\"#ed7953\"],[0.7777777777777778,\"#fb9f3a\"],[0.8888888888888888,\"#fdca26\"],[1.0,\"#f0f921\"]]}],\"choropleth\":[{\"type\":\"choropleth\",\"colorbar\":{\"outlinewidth\":0,\"ticks\":\"\"}}],\"histogram2d\":[{\"type\":\"histogram2d\",\"colorbar\":{\"outlinewidth\":0,\"ticks\":\"\"},\"colorscale\":[[0.0,\"#0d0887\"],[0.1111111111111111,\"#46039f\"],[0.2222222222222222,\"#7201a8\"],[0.3333333333333333,\"#9c179e\"],[0.4444444444444444,\"#bd3786\"],[0.5555555555555556,\"#d8576b\"],[0.6666666666666666,\"#ed7953\"],[0.7777777777777778,\"#fb9f3a\"],[0.8888888888888888,\"#fdca26\"],[1.0,\"#f0f921\"]]}],\"heatmap\":[{\"type\":\"heatmap\",\"colorbar\":{\"outlinewidth\":0,\"ticks\":\"\"},\"colorscale\":[[0.0,\"#0d0887\"],[0.1111111111111111,\"#46039f\"],[0.2222222222222222,\"#7201a8\"],[0.3333333333333333,\"#9c179e\"],[0.4444444444444444,\"#bd3786\"],[0.5555555555555556,\"#d8576b\"],[0.6666666666666666,\"#ed7953\"],[0.7777777777777778,\"#fb9f3a\"],[0.8888888888888888,\"#fdca26\"],[1.0,\"#f0f921\"]]}],\"heatmapgl\":[{\"type\":\"heatmapgl\",\"colorbar\":{\"outlinewidth\":0,\"ticks\":\"\"},\"colorscale\":[[0.0,\"#0d0887\"],[0.1111111111111111,\"#46039f\"],[0.2222222222222222,\"#7201a8\"],[0.3333333333333333,\"#9c179e\"],[0.4444444444444444,\"#bd3786\"],[0.5555555555555556,\"#d8576b\"],[0.6666666666666666,\"#ed7953\"],[0.7777777777777778,\"#fb9f3a\"],[0.8888888888888888,\"#fdca26\"],[1.0,\"#f0f921\"]]}],\"contourcarpet\":[{\"type\":\"contourcarpet\",\"colorbar\":{\"outlinewidth\":0,\"ticks\":\"\"}}],\"contour\":[{\"type\":\"contour\",\"colorbar\":{\"outlinewidth\":0,\"ticks\":\"\"},\"colorscale\":[[0.0,\"#0d0887\"],[0.1111111111111111,\"#46039f\"],[0.2222222222222222,\"#7201a8\"],[0.3333333333333333,\"#9c179e\"],[0.4444444444444444,\"#bd3786\"],[0.5555555555555556,\"#d8576b\"],[0.6666666666666666,\"#ed7953\"],[0.7777777777777778,\"#fb9f3a\"],[0.8888888888888888,\"#fdca26\"],[1.0,\"#f0f921\"]]}],\"surface\":[{\"type\":\"surface\",\"colorbar\":{\"outlinewidth\":0,\"ticks\":\"\"},\"colorscale\":[[0.0,\"#0d0887\"],[0.1111111111111111,\"#46039f\"],[0.2222222222222222,\"#7201a8\"],[0.3333333333333333,\"#9c179e\"],[0.4444444444444444,\"#bd3786\"],[0.5555555555555556,\"#d8576b\"],[0.6666666666666666,\"#ed7953\"],[0.7777777777777778,\"#fb9f3a\"],[0.8888888888888888,\"#fdca26\"],[1.0,\"#f0f921\"]]}],\"mesh3d\":[{\"type\":\"mesh3d\",\"colorbar\":{\"outlinewidth\":0,\"ticks\":\"\"}}],\"scatter\":[{\"fillpattern\":{\"fillmode\":\"overlay\",\"size\":10,\"solidity\":0.2},\"type\":\"scatter\"}],\"parcoords\":[{\"type\":\"parcoords\",\"line\":{\"colorbar\":{\"outlinewidth\":0,\"ticks\":\"\"}}}],\"scatterpolargl\":[{\"type\":\"scatterpolargl\",\"marker\":{\"colorbar\":{\"outlinewidth\":0,\"ticks\":\"\"}}}],\"bar\":[{\"error_x\":{\"color\":\"#2a3f5f\"},\"error_y\":{\"color\":\"#2a3f5f\"},\"marker\":{\"line\":{\"color\":\"#E5ECF6\",\"width\":0.5},\"pattern\":{\"fillmode\":\"overlay\",\"size\":10,\"solidity\":0.2}},\"type\":\"bar\"}],\"scattergeo\":[{\"type\":\"scattergeo\",\"marker\":{\"colorbar\":{\"outlinewidth\":0,\"ticks\":\"\"}}}],\"scatterpolar\":[{\"type\":\"scatterpolar\",\"marker\":{\"colorbar\":{\"outlinewidth\":0,\"ticks\":\"\"}}}],\"histogram\":[{\"marker\":{\"pattern\":{\"fillmode\":\"overlay\",\"size\":10,\"solidity\":0.2}},\"type\":\"histogram\"}],\"scattergl\":[{\"type\":\"scattergl\",\"marker\":{\"colorbar\":{\"outlinewidth\":0,\"ticks\":\"\"}}}],\"scatter3d\":[{\"type\":\"scatter3d\",\"line\":{\"colorbar\":{\"outlinewidth\":0,\"ticks\":\"\"}},\"marker\":{\"colorbar\":{\"outlinewidth\":0,\"ticks\":\"\"}}}],\"scattermapbox\":[{\"type\":\"scattermapbox\",\"marker\":{\"colorbar\":{\"outlinewidth\":0,\"ticks\":\"\"}}}],\"scatterternary\":[{\"type\":\"scatterternary\",\"marker\":{\"colorbar\":{\"outlinewidth\":0,\"ticks\":\"\"}}}],\"scattercarpet\":[{\"type\":\"scattercarpet\",\"marker\":{\"colorbar\":{\"outlinewidth\":0,\"ticks\":\"\"}}}],\"carpet\":[{\"aaxis\":{\"endlinecolor\":\"#2a3f5f\",\"gridcolor\":\"white\",\"linecolor\":\"white\",\"minorgridcolor\":\"white\",\"startlinecolor\":\"#2a3f5f\"},\"baxis\":{\"endlinecolor\":\"#2a3f5f\",\"gridcolor\":\"white\",\"linecolor\":\"white\",\"minorgridcolor\":\"white\",\"startlinecolor\":\"#2a3f5f\"},\"type\":\"carpet\"}],\"table\":[{\"cells\":{\"fill\":{\"color\":\"#EBF0F8\"},\"line\":{\"color\":\"white\"}},\"header\":{\"fill\":{\"color\":\"#C8D4E3\"},\"line\":{\"color\":\"white\"}},\"type\":\"table\"}],\"barpolar\":[{\"marker\":{\"line\":{\"color\":\"#E5ECF6\",\"width\":0.5},\"pattern\":{\"fillmode\":\"overlay\",\"size\":10,\"solidity\":0.2}},\"type\":\"barpolar\"}],\"pie\":[{\"automargin\":true,\"type\":\"pie\"}]},\"layout\":{\"autotypenumbers\":\"strict\",\"colorway\":[\"#636efa\",\"#EF553B\",\"#00cc96\",\"#ab63fa\",\"#FFA15A\",\"#19d3f3\",\"#FF6692\",\"#B6E880\",\"#FF97FF\",\"#FECB52\"],\"font\":{\"color\":\"#2a3f5f\"},\"hovermode\":\"closest\",\"hoverlabel\":{\"align\":\"left\"},\"paper_bgcolor\":\"white\",\"plot_bgcolor\":\"#E5ECF6\",\"polar\":{\"bgcolor\":\"#E5ECF6\",\"angularaxis\":{\"gridcolor\":\"white\",\"linecolor\":\"white\",\"ticks\":\"\"},\"radialaxis\":{\"gridcolor\":\"white\",\"linecolor\":\"white\",\"ticks\":\"\"}},\"ternary\":{\"bgcolor\":\"#E5ECF6\",\"aaxis\":{\"gridcolor\":\"white\",\"linecolor\":\"white\",\"ticks\":\"\"},\"baxis\":{\"gridcolor\":\"white\",\"linecolor\":\"white\",\"ticks\":\"\"},\"caxis\":{\"gridcolor\":\"white\",\"linecolor\":\"white\",\"ticks\":\"\"}},\"coloraxis\":{\"colorbar\":{\"outlinewidth\":0,\"ticks\":\"\"}},\"colorscale\":{\"sequential\":[[0.0,\"#0d0887\"],[0.1111111111111111,\"#46039f\"],[0.2222222222222222,\"#7201a8\"],[0.3333333333333333,\"#9c179e\"],[0.4444444444444444,\"#bd3786\"],[0.5555555555555556,\"#d8576b\"],[0.6666666666666666,\"#ed7953\"],[0.7777777777777778,\"#fb9f3a\"],[0.8888888888888888,\"#fdca26\"],[1.0,\"#f0f921\"]],\"sequentialminus\":[[0.0,\"#0d0887\"],[0.1111111111111111,\"#46039f\"],[0.2222222222222222,\"#7201a8\"],[0.3333333333333333,\"#9c179e\"],[0.4444444444444444,\"#bd3786\"],[0.5555555555555556,\"#d8576b\"],[0.6666666666666666,\"#ed7953\"],[0.7777777777777778,\"#fb9f3a\"],[0.8888888888888888,\"#fdca26\"],[1.0,\"#f0f921\"]],\"diverging\":[[0,\"#8e0152\"],[0.1,\"#c51b7d\"],[0.2,\"#de77ae\"],[0.3,\"#f1b6da\"],[0.4,\"#fde0ef\"],[0.5,\"#f7f7f7\"],[0.6,\"#e6f5d0\"],[0.7,\"#b8e186\"],[0.8,\"#7fbc41\"],[0.9,\"#4d9221\"],[1,\"#276419\"]]},\"xaxis\":{\"gridcolor\":\"white\",\"linecolor\":\"white\",\"ticks\":\"\",\"title\":{\"standoff\":15},\"zerolinecolor\":\"white\",\"automargin\":true,\"zerolinewidth\":2},\"yaxis\":{\"gridcolor\":\"white\",\"linecolor\":\"white\",\"ticks\":\"\",\"title\":{\"standoff\":15},\"zerolinecolor\":\"white\",\"automargin\":true,\"zerolinewidth\":2},\"scene\":{\"xaxis\":{\"backgroundcolor\":\"#E5ECF6\",\"gridcolor\":\"white\",\"linecolor\":\"white\",\"showbackground\":true,\"ticks\":\"\",\"zerolinecolor\":\"white\",\"gridwidth\":2},\"yaxis\":{\"backgroundcolor\":\"#E5ECF6\",\"gridcolor\":\"white\",\"linecolor\":\"white\",\"showbackground\":true,\"ticks\":\"\",\"zerolinecolor\":\"white\",\"gridwidth\":2},\"zaxis\":{\"backgroundcolor\":\"#E5ECF6\",\"gridcolor\":\"white\",\"linecolor\":\"white\",\"showbackground\":true,\"ticks\":\"\",\"zerolinecolor\":\"white\",\"gridwidth\":2}},\"shapedefaults\":{\"line\":{\"color\":\"#2a3f5f\"}},\"annotationdefaults\":{\"arrowcolor\":\"#2a3f5f\",\"arrowhead\":0,\"arrowwidth\":1},\"geo\":{\"bgcolor\":\"white\",\"landcolor\":\"#E5ECF6\",\"subunitcolor\":\"white\",\"showland\":true,\"showlakes\":true,\"lakecolor\":\"white\"},\"title\":{\"x\":0.05},\"mapbox\":{\"style\":\"light\"}}},\"xaxis\":{\"anchor\":\"y\",\"domain\":[0.0,1.0],\"title\":{\"text\":\"x\"}},\"yaxis\":{\"anchor\":\"x\",\"domain\":[0.0,1.0],\"title\":{\"text\":\"y\"}},\"legend\":{\"tracegroupgap\":0},\"margin\":{\"t\":60}},                        {\"responsive\": true}                    ).then(function(){\n",
              "                            \n",
              "var gd = document.getElementById('92f02cae-f569-421a-9882-b8184c28a2c4');\n",
              "var x = new MutationObserver(function (mutations, observer) {{\n",
              "        var display = window.getComputedStyle(gd).display;\n",
              "        if (!display || display === 'none') {{\n",
              "            console.log([gd, 'removed!']);\n",
              "            Plotly.purge(gd);\n",
              "            observer.disconnect();\n",
              "        }}\n",
              "}});\n",
              "\n",
              "// Listen for the removal of the full notebook cells\n",
              "var notebookContainer = gd.closest('#notebook-container');\n",
              "if (notebookContainer) {{\n",
              "    x.observe(notebookContainer, {childList: true});\n",
              "}}\n",
              "\n",
              "// Listen for the clearing of the current output cell\n",
              "var outputEl = gd.closest('.output');\n",
              "if (outputEl) {{\n",
              "    x.observe(outputEl, {childList: true});\n",
              "}}\n",
              "\n",
              "                        })                };                            </script>        </div>\n",
              "</body>\n",
              "</html>"
            ]
          },
          "metadata": {}
        }
      ],
      "source": [
        "# Graficar los embedddings en 2D\n",
        "# Lleva 10 minutos para generar\n",
        "import plotly.graph_objects as go\n",
        "import plotly.express as px\n",
        "\n",
        "vecs, labels = reduce_dimensions(w2v_model)\n",
        "\n",
        "MAX_WORDS=200\n",
        "fig = px.scatter(x=vecs[:MAX_WORDS,0], y=vecs[:MAX_WORDS,1], text=labels[:MAX_WORDS])\n",
        "fig.show(renderer=\"colab\") # esto para plotly en colab"
      ]
    },
    {
      "cell_type": "code",
      "execution_count": null,
      "metadata": {
        "colab": {
          "base_uri": "https://localhost:8080/",
          "height": 542
        },
        "id": "LiwmFAa9qqoj",
        "outputId": "21ddb3b8-89e5-4802-e76e-5935cae5cfcf"
      },
      "outputs": [
        {
          "output_type": "display_data",
          "data": {
            "text/html": [
              "<html>\n",
              "<head><meta charset=\"utf-8\" /></head>\n",
              "<body>\n",
              "    <div>            <script src=\"https://cdnjs.cloudflare.com/ajax/libs/mathjax/2.7.5/MathJax.js?config=TeX-AMS-MML_SVG\"></script><script type=\"text/javascript\">if (window.MathJax && window.MathJax.Hub && window.MathJax.Hub.Config) {window.MathJax.Hub.Config({SVG: {font: \"STIX-Web\"}});}</script>                <script type=\"text/javascript\">window.PlotlyConfig = {MathJaxConfig: 'local'};</script>\n",
              "        <script charset=\"utf-8\" src=\"https://cdn.plot.ly/plotly-2.35.2.min.js\"></script>                <div id=\"ce4961af-f773-408d-96b4-3ea76ee9d5e8\" class=\"plotly-graph-div\" style=\"height:525px; width:100%;\"></div>            <script type=\"text/javascript\">                                    window.PLOTLYENV=window.PLOTLYENV || {};                                    if (document.getElementById(\"ce4961af-f773-408d-96b4-3ea76ee9d5e8\")) {                    Plotly.newPlot(                        \"ce4961af-f773-408d-96b4-3ea76ee9d5e8\",                        [{\"hovertemplate\":\"x=%{x}\\u003cbr\\u003ey=%{y}\\u003cbr\\u003ez=%{z}\\u003cbr\\u003etext=%{text}\\u003cextra\\u003e\\u003c\\u002fextra\\u003e\",\"legendgroup\":\"\",\"marker\":{\"color\":\"#636efa\",\"symbol\":\"circle\",\"size\":2},\"mode\":\"markers+text\",\"name\":\"\",\"scene\":\"scene\",\"showlegend\":false,\"text\":[\"the\",\"of\",\"and\",\"in\",\"to\",\"a\",\"was\",\"by\",\"it\",\"were\",\"for\",\"on\",\"as\",\"with\",\"from\",\"that\",\"had\",\"which\",\"his\",\"at\",\"he\",\"their\",\"is\",\"or\",\"be\",\"they\",\"not\",\"but\",\"all\",\"its\",\"an\",\"one\",\"who\",\"been\",\"have\",\"into\",\"no\",\"europe\",\"when\",\"could\",\"first\",\"war\",\"most\",\"more\",\"'\",\"this\",\"after\",\"has\",\"only\",\"century\",\"european\",\"german\",\"years\",\"would\",\"are\",\"there\",\"than\",\"both\",\"between\",\"over\",\"where\",\"two\",\"great\",\"soviet\",\"many\",\"so\",\"did\",\"i\",\"time\",\"world\",\"'the\",\"new\",\"french\",\"such\",\"political\",\"them\",\"see\",\"against\",\"1\",\"under\",\"roman\",\"germany\",\"france\",\"empire\",\"later\",\"history\",\"other\",\"de\",\"three\",\"made\",\"out\",\"some\",\"western\",\"through\",\"west\",\"church\",\"east\",\"st\",\"state\",\"before\",\"up\",\"like\",\"until\",\"own\",\"long\",\"2\",\"then\",\"poland\",\"british\",\"can\",\"still\",\"russian\",\"took\",\"modern\",\"yet\",\"called\",\"general\",\"polish\",\"also\",\"power\",\"same\",\"r\",\"king\",\"military\",\"last\",\"russia\",\"army\",\"rome\",\"christian\",\"may\",\"about\",\"much\",\"national\",\"whose\",\"since\",\"life\",\"if\",\"greek\",\"even\",\"c\",\"came\",\"him\",\"what\",\"second\",\"well\",\"those\",\"social\",\"people\",\"death\",\"once\",\"will\",\"3\",\"every\",\"left\",\"her\",\"these\",\"known\",\"early\",\"italy\",\"any\",\"imperial\",\"city\",\"day\",\"found\",\"old\",\"catholic\",\"p\",\"end\",\"central\",\"000\",\"now\",\"europe's\",\"became\",\"english\",\"eastern\",\"within\",\"very\",\"religious\",\"government\",\"each\",\"held\",\"point\",\"iii\",\"countries\",\"main\",\"however\",\"set\",\"began\",\"paris\",\"never\",\"during\",\"times\",\"emperor\",\"england\",\"without\",\"said\",\"5\",\"another\",\"age\",\"ancient\"],\"x\":[-14.114418,199.78311,32.195198,-16.391193,-27.58488,-12.489196,-21.05334,-11.729876,-19.32039,-21.917356,-20.81851,-13.361581,-21.982132,-19.19625,-17.397543,-25.118872,-19.686382,-26.722977,-13.473017,-12.718539,-16.92476,-15.756114,-23.29787,-16.03711,-15.271393,-19.04508,-26.09397,-23.681028,-14.343564,-12.946207,-11.707116,-16.616196,-30.892046,-12.955203,-19.903961,-22.211842,-19.118269,-16.715025,-17.742363,-27.780188,-19.900057,26.986422,-8.590066,-7.4897513,-53.74788,-14.212322,-15.909928,-20.573141,-6.5357885,8.937636,-12.542769,-58.321823,-7.9073687,-27.894829,-23.243622,-19.929436,-9.761395,-26.270704,-15.719753,-18.272797,-23.459541,-11.47478,-25.5431,-9.211353,-6.1491632,-26.937386,-24.26633,-10.432633,4.6580358,-21.403107,-6.7725925,-31.958776,72.89134,-71.0123,37.844772,-32.28057,-25.463781,-16.905186,-56.540546,-8.062767,8.89097,-16.0129,-7.166231,-21.977428,-36.392296,-51.99883,-69.284096,-14.556105,-15.16121,-40.517227,-12.504503,-12.0121355,49.04712,-16.072664,-0.23129386,37.839207,33.429356,-50.861195,15.381483,-18.899357,12.786115,-33.277767,-15.464323,-5.6223307,4.030814,-43.322887,12.922837,27.661007,26.458296,-29.330317,-7.5020556,-14.116892,-18.65957,-52.578773,-25.918676,-28.997385,49.33903,67.76473,-19.654888,-31.491709,-10.728054,-54.33361,41.938755,-29.526312,6.1724114,-20.071787,26.536762,16.092466,-17.015953,-31.377777,-22.045979,-18.430857,-8.404409,-28.185709,-22.914309,-6.1374483,-27.176138,27.537039,-54.43692,-30.140068,-17.753841,-16.139406,-22.71816,18.104641,-57.535187,-18.356823,-65.639145,-65.656654,61.021988,22.628597,-31.364243,-48.202736,-9.337432,51.72417,-10.727073,18.202581,-48.171562,-35.21371,48.856926,-9.866392,28.68228,-51.57126,-10.357554,23.31158,-29.513622,-14.857334,61.996155,-26.734655,-46.131485,25.675825,-23.353909,-10.815424,-20.604853,76.97015,3.666944,-11.7272005,-24.980007,-0.33155048,-33.81946,-36.76829,-31.964321,16.598392,15.151716,-48.180836,33.26033,-21.307077,66.13438,-2.7075205,18.729223,-30.854902,-13.887778,12.9580345,62.614544,27.081522,-25.371681,-32.50297,-46.323574,-4.912341,-33.259808,-13.339409],\"y\":[32.29788,-105.12616,-3.3572476,28.862663,21.693665,30.415688,14.006483,24.644463,27.632883,17.81715,27.980526,27.662449,23.859133,24.138815,26.559721,26.829748,16.07523,31.92057,30.061789,30.347729,29.40381,35.865467,12.732873,19.920582,24.043877,33.0628,20.646414,38.02838,30.740799,36.466175,28.101946,29.20836,30.852148,35.653103,17.475132,26.171898,27.705908,33.370758,31.70109,15.38241,39.56187,55.748646,37.23899,36.07007,-24.306425,25.769014,26.86215,12.850925,36.668285,-32.78273,43.972496,58.226406,40.27885,18.2153,20.040615,24.060583,8.699199,30.623367,22.147545,36.57748,31.249529,39.8558,44.967567,-9.795812,35.6954,17.37213,13.947559,-40.72377,0.92399734,36.71002,29.778818,35.646103,-33.091927,0.57818735,56.19077,79.10974,10.547763,21.967884,-51.688305,26.132576,69.339676,54.57649,58.14827,52.438885,34.180954,-48.869823,25.275042,-17.720081,40.359688,54.316593,39.53876,50.3759,51.606487,29.325497,68.25192,-22.805311,36.286667,-19.615696,-26.33125,30.844866,-10.417228,31.54852,35.20937,63.003586,3.1005375,-56.564774,70.986534,71.744606,-21.21697,16.425224,30.95048,47.324947,15.140974,24.181595,40.19763,20.744566,-61.441086,-21.08814,42.155807,44.533684,67.931335,0.22055174,-23.24536,44.124535,45.73662,64.34944,-5.819644,40.39239,70.22329,21.64293,32.06731,49.539505,20.513275,34.496193,33.520798,75.34984,26.135046,22.947567,49.09835,19.981531,12.509183,32.401203,28.74303,63.714405,41.70693,37.14191,29.28664,32.53973,-10.563996,66.95835,19.069138,-60.77363,27.525404,8.981545,28.5424,60.494156,1.5328618,48.20977,20.436232,32.56383,-9.774221,-2.7184312,60.13446,18.936964,68.75674,-46.438454,44.79694,46.248215,44.032345,32.96432,44.70495,33.395256,9.864261,-19.1953,51.58155,20.116749,38.55391,55.199257,19.574347,41.335613,61.87868,30.136509,2.3820179,-14.988608,69.164604,37.299824,-9.57539,54.52275,-63.952503,19.560461,32.137444,8.396499,20.704773,-29.130669,27.311401,-34.989895,-62.09006,30.934048,-20.077929,-18.145632],\"z\":[-23.655327,136.91858,44.231113,-35.44527,-34.12124,-21.557163,-41.402763,-34.272884,-19.316694,-40.998566,-33.660946,-37.37819,-29.53211,-35.117916,-38.955917,-25.25315,-35.99762,-27.034227,-17.217793,-33.821484,-15.41848,-25.17081,-39.642788,-21.755198,-25.701092,-25.56874,-29.57584,-26.696722,-28.04614,-22.27859,-24.613194,-23.139185,-27.070183,-16.955864,-32.413895,-39.65426,-27.437313,-20.47521,-32.373127,-37.45247,-35.629147,-11.682943,-34.062683,-40.529446,3.6198735,-20.274967,-32.127773,-35.46241,-21.437876,45.863632,-34.105618,5.6495614,-16.666348,-35.798653,-42.78535,-21.89137,-50.718227,-59.959362,-37.212826,-40.92194,-29.530575,-28.053762,-50.064198,-52.117878,-27.209543,-24.187574,-44.17776,-18.73094,-55.8408,-59.457275,-25.345005,-60.82206,1.1707029,34.10984,43.25802,4.2463036,-22.051546,-31.518673,-14.210699,-39.82446,-31.106647,-35.778103,-51.157482,-38.653065,-30.208778,-26.763418,-38.958103,-12.810236,-30.47077,-37.210438,-38.50557,-32.22406,-36.14422,-43.594887,52.64467,42.32634,-6.733399,-48.07078,-80.92823,-37.567562,-9.915123,-39.265648,-35.266605,8.919649,-17.555403,-13.335632,-49.237926,-7.5140553,52.46425,-40.585373,-30.866783,-49.42399,-44.943882,-40.428673,-31.246468,44.17998,3.1374936,-17.104908,-18.95075,-62.91857,-4.363225,-34.346287,46.98665,-34.475708,-34.534595,-6.3221073,-14.258363,-34.7183,37.699986,-43.18586,-42.499043,-43.854153,-44.073437,-30.626688,-35.073353,39.182426,-29.376598,-77.896385,8.643926,-53.35077,-40.79172,-12.47271,-22.388075,-39.994205,16.349586,-15.85352,1.3207874,29.39686,-2.8106449,-47.190323,-34.825527,-3.4223037,-20.502846,65.59867,-15.348649,-53.823612,-8.422233,14.870965,-36.401638,-20.256174,-80.828,6.908876,36.644264,-53.886295,-30.124517,-58.051212,-15.312426,-13.025952,-46.670944,-5.285064,-37.40055,-25.441256,-45.664375,-4.383073,-37.47857,-30.700005,-17.664652,35.235283,38.21163,-30.702658,-40.613613,-38.81786,-77.42501,19.698662,-27.477587,-22.481176,10.475606,-56.884827,43.284626,-28.54994,-39.261276,14.6634245,-20.69292,75.047554,-34.817852,-3.5851743,-10.646995,-20.12603,-74.949844,-31.543541],\"type\":\"scatter3d\"}],                        {\"template\":{\"data\":{\"histogram2dcontour\":[{\"type\":\"histogram2dcontour\",\"colorbar\":{\"outlinewidth\":0,\"ticks\":\"\"},\"colorscale\":[[0.0,\"#0d0887\"],[0.1111111111111111,\"#46039f\"],[0.2222222222222222,\"#7201a8\"],[0.3333333333333333,\"#9c179e\"],[0.4444444444444444,\"#bd3786\"],[0.5555555555555556,\"#d8576b\"],[0.6666666666666666,\"#ed7953\"],[0.7777777777777778,\"#fb9f3a\"],[0.8888888888888888,\"#fdca26\"],[1.0,\"#f0f921\"]]}],\"choropleth\":[{\"type\":\"choropleth\",\"colorbar\":{\"outlinewidth\":0,\"ticks\":\"\"}}],\"histogram2d\":[{\"type\":\"histogram2d\",\"colorbar\":{\"outlinewidth\":0,\"ticks\":\"\"},\"colorscale\":[[0.0,\"#0d0887\"],[0.1111111111111111,\"#46039f\"],[0.2222222222222222,\"#7201a8\"],[0.3333333333333333,\"#9c179e\"],[0.4444444444444444,\"#bd3786\"],[0.5555555555555556,\"#d8576b\"],[0.6666666666666666,\"#ed7953\"],[0.7777777777777778,\"#fb9f3a\"],[0.8888888888888888,\"#fdca26\"],[1.0,\"#f0f921\"]]}],\"heatmap\":[{\"type\":\"heatmap\",\"colorbar\":{\"outlinewidth\":0,\"ticks\":\"\"},\"colorscale\":[[0.0,\"#0d0887\"],[0.1111111111111111,\"#46039f\"],[0.2222222222222222,\"#7201a8\"],[0.3333333333333333,\"#9c179e\"],[0.4444444444444444,\"#bd3786\"],[0.5555555555555556,\"#d8576b\"],[0.6666666666666666,\"#ed7953\"],[0.7777777777777778,\"#fb9f3a\"],[0.8888888888888888,\"#fdca26\"],[1.0,\"#f0f921\"]]}],\"heatmapgl\":[{\"type\":\"heatmapgl\",\"colorbar\":{\"outlinewidth\":0,\"ticks\":\"\"},\"colorscale\":[[0.0,\"#0d0887\"],[0.1111111111111111,\"#46039f\"],[0.2222222222222222,\"#7201a8\"],[0.3333333333333333,\"#9c179e\"],[0.4444444444444444,\"#bd3786\"],[0.5555555555555556,\"#d8576b\"],[0.6666666666666666,\"#ed7953\"],[0.7777777777777778,\"#fb9f3a\"],[0.8888888888888888,\"#fdca26\"],[1.0,\"#f0f921\"]]}],\"contourcarpet\":[{\"type\":\"contourcarpet\",\"colorbar\":{\"outlinewidth\":0,\"ticks\":\"\"}}],\"contour\":[{\"type\":\"contour\",\"colorbar\":{\"outlinewidth\":0,\"ticks\":\"\"},\"colorscale\":[[0.0,\"#0d0887\"],[0.1111111111111111,\"#46039f\"],[0.2222222222222222,\"#7201a8\"],[0.3333333333333333,\"#9c179e\"],[0.4444444444444444,\"#bd3786\"],[0.5555555555555556,\"#d8576b\"],[0.6666666666666666,\"#ed7953\"],[0.7777777777777778,\"#fb9f3a\"],[0.8888888888888888,\"#fdca26\"],[1.0,\"#f0f921\"]]}],\"surface\":[{\"type\":\"surface\",\"colorbar\":{\"outlinewidth\":0,\"ticks\":\"\"},\"colorscale\":[[0.0,\"#0d0887\"],[0.1111111111111111,\"#46039f\"],[0.2222222222222222,\"#7201a8\"],[0.3333333333333333,\"#9c179e\"],[0.4444444444444444,\"#bd3786\"],[0.5555555555555556,\"#d8576b\"],[0.6666666666666666,\"#ed7953\"],[0.7777777777777778,\"#fb9f3a\"],[0.8888888888888888,\"#fdca26\"],[1.0,\"#f0f921\"]]}],\"mesh3d\":[{\"type\":\"mesh3d\",\"colorbar\":{\"outlinewidth\":0,\"ticks\":\"\"}}],\"scatter\":[{\"fillpattern\":{\"fillmode\":\"overlay\",\"size\":10,\"solidity\":0.2},\"type\":\"scatter\"}],\"parcoords\":[{\"type\":\"parcoords\",\"line\":{\"colorbar\":{\"outlinewidth\":0,\"ticks\":\"\"}}}],\"scatterpolargl\":[{\"type\":\"scatterpolargl\",\"marker\":{\"colorbar\":{\"outlinewidth\":0,\"ticks\":\"\"}}}],\"bar\":[{\"error_x\":{\"color\":\"#2a3f5f\"},\"error_y\":{\"color\":\"#2a3f5f\"},\"marker\":{\"line\":{\"color\":\"#E5ECF6\",\"width\":0.5},\"pattern\":{\"fillmode\":\"overlay\",\"size\":10,\"solidity\":0.2}},\"type\":\"bar\"}],\"scattergeo\":[{\"type\":\"scattergeo\",\"marker\":{\"colorbar\":{\"outlinewidth\":0,\"ticks\":\"\"}}}],\"scatterpolar\":[{\"type\":\"scatterpolar\",\"marker\":{\"colorbar\":{\"outlinewidth\":0,\"ticks\":\"\"}}}],\"histogram\":[{\"marker\":{\"pattern\":{\"fillmode\":\"overlay\",\"size\":10,\"solidity\":0.2}},\"type\":\"histogram\"}],\"scattergl\":[{\"type\":\"scattergl\",\"marker\":{\"colorbar\":{\"outlinewidth\":0,\"ticks\":\"\"}}}],\"scatter3d\":[{\"type\":\"scatter3d\",\"line\":{\"colorbar\":{\"outlinewidth\":0,\"ticks\":\"\"}},\"marker\":{\"colorbar\":{\"outlinewidth\":0,\"ticks\":\"\"}}}],\"scattermapbox\":[{\"type\":\"scattermapbox\",\"marker\":{\"colorbar\":{\"outlinewidth\":0,\"ticks\":\"\"}}}],\"scatterternary\":[{\"type\":\"scatterternary\",\"marker\":{\"colorbar\":{\"outlinewidth\":0,\"ticks\":\"\"}}}],\"scattercarpet\":[{\"type\":\"scattercarpet\",\"marker\":{\"colorbar\":{\"outlinewidth\":0,\"ticks\":\"\"}}}],\"carpet\":[{\"aaxis\":{\"endlinecolor\":\"#2a3f5f\",\"gridcolor\":\"white\",\"linecolor\":\"white\",\"minorgridcolor\":\"white\",\"startlinecolor\":\"#2a3f5f\"},\"baxis\":{\"endlinecolor\":\"#2a3f5f\",\"gridcolor\":\"white\",\"linecolor\":\"white\",\"minorgridcolor\":\"white\",\"startlinecolor\":\"#2a3f5f\"},\"type\":\"carpet\"}],\"table\":[{\"cells\":{\"fill\":{\"color\":\"#EBF0F8\"},\"line\":{\"color\":\"white\"}},\"header\":{\"fill\":{\"color\":\"#C8D4E3\"},\"line\":{\"color\":\"white\"}},\"type\":\"table\"}],\"barpolar\":[{\"marker\":{\"line\":{\"color\":\"#E5ECF6\",\"width\":0.5},\"pattern\":{\"fillmode\":\"overlay\",\"size\":10,\"solidity\":0.2}},\"type\":\"barpolar\"}],\"pie\":[{\"automargin\":true,\"type\":\"pie\"}]},\"layout\":{\"autotypenumbers\":\"strict\",\"colorway\":[\"#636efa\",\"#EF553B\",\"#00cc96\",\"#ab63fa\",\"#FFA15A\",\"#19d3f3\",\"#FF6692\",\"#B6E880\",\"#FF97FF\",\"#FECB52\"],\"font\":{\"color\":\"#2a3f5f\"},\"hovermode\":\"closest\",\"hoverlabel\":{\"align\":\"left\"},\"paper_bgcolor\":\"white\",\"plot_bgcolor\":\"#E5ECF6\",\"polar\":{\"bgcolor\":\"#E5ECF6\",\"angularaxis\":{\"gridcolor\":\"white\",\"linecolor\":\"white\",\"ticks\":\"\"},\"radialaxis\":{\"gridcolor\":\"white\",\"linecolor\":\"white\",\"ticks\":\"\"}},\"ternary\":{\"bgcolor\":\"#E5ECF6\",\"aaxis\":{\"gridcolor\":\"white\",\"linecolor\":\"white\",\"ticks\":\"\"},\"baxis\":{\"gridcolor\":\"white\",\"linecolor\":\"white\",\"ticks\":\"\"},\"caxis\":{\"gridcolor\":\"white\",\"linecolor\":\"white\",\"ticks\":\"\"}},\"coloraxis\":{\"colorbar\":{\"outlinewidth\":0,\"ticks\":\"\"}},\"colorscale\":{\"sequential\":[[0.0,\"#0d0887\"],[0.1111111111111111,\"#46039f\"],[0.2222222222222222,\"#7201a8\"],[0.3333333333333333,\"#9c179e\"],[0.4444444444444444,\"#bd3786\"],[0.5555555555555556,\"#d8576b\"],[0.6666666666666666,\"#ed7953\"],[0.7777777777777778,\"#fb9f3a\"],[0.8888888888888888,\"#fdca26\"],[1.0,\"#f0f921\"]],\"sequentialminus\":[[0.0,\"#0d0887\"],[0.1111111111111111,\"#46039f\"],[0.2222222222222222,\"#7201a8\"],[0.3333333333333333,\"#9c179e\"],[0.4444444444444444,\"#bd3786\"],[0.5555555555555556,\"#d8576b\"],[0.6666666666666666,\"#ed7953\"],[0.7777777777777778,\"#fb9f3a\"],[0.8888888888888888,\"#fdca26\"],[1.0,\"#f0f921\"]],\"diverging\":[[0,\"#8e0152\"],[0.1,\"#c51b7d\"],[0.2,\"#de77ae\"],[0.3,\"#f1b6da\"],[0.4,\"#fde0ef\"],[0.5,\"#f7f7f7\"],[0.6,\"#e6f5d0\"],[0.7,\"#b8e186\"],[0.8,\"#7fbc41\"],[0.9,\"#4d9221\"],[1,\"#276419\"]]},\"xaxis\":{\"gridcolor\":\"white\",\"linecolor\":\"white\",\"ticks\":\"\",\"title\":{\"standoff\":15},\"zerolinecolor\":\"white\",\"automargin\":true,\"zerolinewidth\":2},\"yaxis\":{\"gridcolor\":\"white\",\"linecolor\":\"white\",\"ticks\":\"\",\"title\":{\"standoff\":15},\"zerolinecolor\":\"white\",\"automargin\":true,\"zerolinewidth\":2},\"scene\":{\"xaxis\":{\"backgroundcolor\":\"#E5ECF6\",\"gridcolor\":\"white\",\"linecolor\":\"white\",\"showbackground\":true,\"ticks\":\"\",\"zerolinecolor\":\"white\",\"gridwidth\":2},\"yaxis\":{\"backgroundcolor\":\"#E5ECF6\",\"gridcolor\":\"white\",\"linecolor\":\"white\",\"showbackground\":true,\"ticks\":\"\",\"zerolinecolor\":\"white\",\"gridwidth\":2},\"zaxis\":{\"backgroundcolor\":\"#E5ECF6\",\"gridcolor\":\"white\",\"linecolor\":\"white\",\"showbackground\":true,\"ticks\":\"\",\"zerolinecolor\":\"white\",\"gridwidth\":2}},\"shapedefaults\":{\"line\":{\"color\":\"#2a3f5f\"}},\"annotationdefaults\":{\"arrowcolor\":\"#2a3f5f\",\"arrowhead\":0,\"arrowwidth\":1},\"geo\":{\"bgcolor\":\"white\",\"landcolor\":\"#E5ECF6\",\"subunitcolor\":\"white\",\"showland\":true,\"showlakes\":true,\"lakecolor\":\"white\"},\"title\":{\"x\":0.05},\"mapbox\":{\"style\":\"light\"}}},\"scene\":{\"domain\":{\"x\":[0.0,1.0],\"y\":[0.0,1.0]},\"xaxis\":{\"title\":{\"text\":\"x\"}},\"yaxis\":{\"title\":{\"text\":\"y\"}},\"zaxis\":{\"title\":{\"text\":\"z\"}}},\"legend\":{\"tracegroupgap\":0},\"margin\":{\"t\":60}},                        {\"responsive\": true}                    ).then(function(){\n",
              "                            \n",
              "var gd = document.getElementById('ce4961af-f773-408d-96b4-3ea76ee9d5e8');\n",
              "var x = new MutationObserver(function (mutations, observer) {{\n",
              "        var display = window.getComputedStyle(gd).display;\n",
              "        if (!display || display === 'none') {{\n",
              "            console.log([gd, 'removed!']);\n",
              "            Plotly.purge(gd);\n",
              "            observer.disconnect();\n",
              "        }}\n",
              "}});\n",
              "\n",
              "// Listen for the removal of the full notebook cells\n",
              "var notebookContainer = gd.closest('#notebook-container');\n",
              "if (notebookContainer) {{\n",
              "    x.observe(notebookContainer, {childList: true});\n",
              "}}\n",
              "\n",
              "// Listen for the clearing of the current output cell\n",
              "var outputEl = gd.closest('.output');\n",
              "if (outputEl) {{\n",
              "    x.observe(outputEl, {childList: true});\n",
              "}}\n",
              "\n",
              "                        })                };                            </script>        </div>\n",
              "</body>\n",
              "</html>"
            ]
          },
          "metadata": {}
        }
      ],
      "source": [
        "# Graficar los embedddings en 3D\n",
        "# Lleva 15 minutos en procesamiento\n",
        "\n",
        "vecs, labels = reduce_dimensions(w2v_model,3)\n",
        "\n",
        "fig = px.scatter_3d(x=vecs[:MAX_WORDS,0], y=vecs[:MAX_WORDS,1], z=vecs[:MAX_WORDS,2],text=labels[:MAX_WORDS])\n",
        "fig.update_traces(marker_size = 2)\n",
        "fig.show(renderer=\"colab\") # esto para plotly en colab"
      ]
    },
    {
      "cell_type": "markdown",
      "source": [
        "# Conclusiones:\n",
        "##### Se observa que el modelo identifica relaciones semánticas entre las palabras. Por ejemplo, palabras relacionadas con la guerra, como 'war' o 'napoleon' aparecen juntas o cercanas en el espacio de embeddings. Se pueden observar relaciones de ubicación geográfica ('france','germany','england', 'russia') o conceptos históricos ('revolution').\n",
        "##### Si bien el modelo encuentra algunas relaciones lógicas, es posible que la precisión de las similitudes no sea perfecta como se puede observar en las analogías debido a la limitación del conjunto de datos o al entrenamiento del modelo (número de epochs, parámetros del word2vec, tamaño de los vectores). El numero de epochs fue bajo debido al tiempo disponible para hacer el entrenamiento con los datos.\n",
        "\n",
        "### En mi opinión para mejorar el modelo, se puede considerar:\n",
        "##### * Un conjunto de datos más grande y ayustes de los hiperparámetros como el tamaño del vector y otros para mejorar la precisión de los vectores.\n",
        "##### * Explorar/Implementar otros modelos de word embeddings como FastText o GloVe.\n"
      ],
      "metadata": {
        "id": "VwBXzQMIVmN8"
      }
    }
  ],
  "metadata": {
    "colab": {
      "provenance": []
    },
    "kernelspec": {
      "display_name": "Python 3",
      "name": "python3"
    },
    "language_info": {
      "codemirror_mode": {
        "name": "ipython",
        "version": 3
      },
      "file_extension": ".py",
      "mimetype": "text/x-python",
      "name": "python",
      "nbconvert_exporter": "python",
      "pygments_lexer": "ipython3",
      "version": "3.10.6"
    }
  },
  "nbformat": 4,
  "nbformat_minor": 0
}